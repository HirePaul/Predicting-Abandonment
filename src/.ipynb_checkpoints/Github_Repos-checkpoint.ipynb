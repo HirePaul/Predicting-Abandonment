{
 "cells": [
  {
   "cell_type": "markdown",
   "id": "3ca92efd-5d55-4d72-af95-ed020b09a5ac",
   "metadata": {},
   "source": [
    "Scraping Github Repos from multiple pages"
   ]
  },
  {
   "cell_type": "code",
   "execution_count": 1,
   "id": "ac61e5c7-ea5c-48c9-ab38-cdbbefb093ae",
   "metadata": {},
   "outputs": [
    {
     "name": "stderr",
     "output_type": "stream",
     "text": [
      "/tmp/ipykernel_474/222825045.py:2: DeprecationWarning: \n",
      "Pyarrow will become a required dependency of pandas in the next major release of pandas (pandas 3.0),\n",
      "(to allow more performant data types, such as the Arrow string type, and better interoperability with other libraries)\n",
      "but was not found to be installed on your system.\n",
      "If this would cause problems for you,\n",
      "please provide us feedback at https://github.com/pandas-dev/pandas/issues/54466\n",
      "        \n",
      "  import pandas as pd\n"
     ]
    }
   ],
   "source": [
    "import requests\n",
    "import pandas as pd"
   ]
  },
  {
   "cell_type": "code",
   "execution_count": 14,
   "id": "d63278ee-b8e7-4bc6-a8a5-7f9373a3ac87",
   "metadata": {},
   "outputs": [],
   "source": [
    "cookies = {\n",
    "    '_octo': 'GH1.1.1915587616.1681407000',\n",
    "    '_device_id': '0a00f64228aef54abed6af711002f71a',\n",
    "    'saved_user_sessions': '112911140%3AbF95nwVgtouvy3DObbW9mmpgR_j7rBjLqQuNFMZAnmzN4mVj',\n",
    "    'user_session': 'bF95nwVgtouvy3DObbW9mmpgR_j7rBjLqQuNFMZAnmzN4mVj',\n",
    "    '__Host-user_session_same_site': 'bF95nwVgtouvy3DObbW9mmpgR_j7rBjLqQuNFMZAnmzN4mVj',\n",
    "    'logged_in': 'yes',\n",
    "    'dotcom_user': 'dchen117',\n",
    "    'has_recent_activity': '1',\n",
    "    'color_mode': '%7B%22color_mode%22%3A%22auto%22%2C%22light_theme%22%3A%7B%22name%22%3A%22light%22%2C%22color_mode%22%3A%22light%22%7D%2C%22dark_theme%22%3A%7B%22name%22%3A%22dark%22%2C%22color_mode%22%3A%22dark%22%7D%7D',\n",
    "    'preferred_color_mode': 'dark',\n",
    "    'tz': 'America%2FNew_York',\n",
    "    '_gh_sess': 'PTDPvn6rFapHCQlO%2BfMgEvFaCxTYRwbL4V6Ppg%2BaHAjR9TLnKIiOGw51g7Roi9lVrXeGksikvTE32M75%2BiC72fU02Yl2WUaAbTxcVPa8TqzJ0q76TXe8a9DuEOR0FL9KCD6lCKR%2BRl8qmVvCC6cr8ZSXmuNsuwpZX4xFlm1v9m%2Bbxr02l6DR%2FxLqd9qyA%2BkSfTndqdnqJxIA4yOdvCQKSlfEcMcpLW60AvVzR%2FBCcM5bA3LheNXJVS%2FR08VyIiapJlgW9gCZI5MIH1YzkHXhBYOEX73OiwgZ521CDbiGL5JfYwwXd2DnU8Xx9NmCAIggNkyitrBfkQQV%2FzJPDhM%2Fp6cI9jHKNPa3OwnpW5rnVor8YRuGXLa6b9%2FQAYpU%2FCHfjtbaVg%3D%3D--QXy690WwXM7%2BLMk0--9MLM5pr68Ctjh9m5%2FNbYyQ%3D%3D',\n",
    "}\n",
    "\n",
    "headers = {\n",
    "    'authority': 'github.com',\n",
    "    'accept': 'application/json',\n",
    "    'accept-language': 'en-US,en;q=0.9',\n",
    "    # 'cookie': '_octo=GH1.1.1915587616.1681407000; _device_id=0a00f64228aef54abed6af711002f71a; saved_user_sessions=112911140%3AbF95nwVgtouvy3DObbW9mmpgR_j7rBjLqQuNFMZAnmzN4mVj; user_session=bF95nwVgtouvy3DObbW9mmpgR_j7rBjLqQuNFMZAnmzN4mVj; __Host-user_session_same_site=bF95nwVgtouvy3DObbW9mmpgR_j7rBjLqQuNFMZAnmzN4mVj; logged_in=yes; dotcom_user=dchen117; has_recent_activity=1; color_mode=%7B%22color_mode%22%3A%22auto%22%2C%22light_theme%22%3A%7B%22name%22%3A%22light%22%2C%22color_mode%22%3A%22light%22%7D%2C%22dark_theme%22%3A%7B%22name%22%3A%22dark%22%2C%22color_mode%22%3A%22dark%22%7D%7D; preferred_color_mode=dark; tz=America%2FNew_York; _gh_sess=PTDPvn6rFapHCQlO%2BfMgEvFaCxTYRwbL4V6Ppg%2BaHAjR9TLnKIiOGw51g7Roi9lVrXeGksikvTE32M75%2BiC72fU02Yl2WUaAbTxcVPa8TqzJ0q76TXe8a9DuEOR0FL9KCD6lCKR%2BRl8qmVvCC6cr8ZSXmuNsuwpZX4xFlm1v9m%2Bbxr02l6DR%2FxLqd9qyA%2BkSfTndqdnqJxIA4yOdvCQKSlfEcMcpLW60AvVzR%2FBCcM5bA3LheNXJVS%2FR08VyIiapJlgW9gCZI5MIH1YzkHXhBYOEX73OiwgZ521CDbiGL5JfYwwXd2DnU8Xx9NmCAIggNkyitrBfkQQV%2FzJPDhM%2Fp6cI9jHKNPa3OwnpW5rnVor8YRuGXLa6b9%2FQAYpU%2FCHfjtbaVg%3D%3D--QXy690WwXM7%2BLMk0--9MLM5pr68Ctjh9m5%2FNbYyQ%3D%3D',\n",
    "    'if-none-match': 'W/\"1024a7abf090b9baa57dc1a658351721\"',\n",
    "    'referer': 'https://github.com/search?q=stars%3A%3E5000&type=repositories&s=stars&o=desc&p=1',\n",
    "    'sec-ch-ua': '\"Not A(Brand\";v=\"99\", \"Google Chrome\";v=\"121\", \"Chromium\";v=\"121\"',\n",
    "    'sec-ch-ua-mobile': '?0',\n",
    "    'sec-ch-ua-platform': '\"Windows\"',\n",
    "    'sec-fetch-dest': 'empty',\n",
    "    'sec-fetch-mode': 'cors',\n",
    "    'sec-fetch-site': 'same-origin',\n",
    "    'user-agent': 'Mozilla/5.0 (Windows NT 10.0; Win64; x64) AppleWebKit/537.36 (KHTML, like Gecko) Chrome/121.0.0.0 Safari/537.36',\n",
    "    'x-github-target': 'dotcom',\n",
    "    'x-requested-with': 'XMLHttpRequest',\n",
    "}\n",
    "\n",
    "project_name = []\n",
    "last_update = []\n",
    "\n",
    "for i in range(11,21):\n",
    "\n",
    "    params = {\n",
    "        'q': 'stars:>5000',\n",
    "        'type': 'repositories',\n",
    "        's': 'stars',\n",
    "        'o': 'desc',\n",
    "        'p': str(i),\n",
    "    }\n",
    "    \n",
    "    # response variable\n",
    "    response = requests.get('https://github.com/search', params=params, cookies=cookies, headers=headers)\n",
    "    \n",
    "    # json object\n",
    "    project_list = response.json()['payload']['results']\n",
    "\n",
    "    for project in project_list:\n",
    "        project_name.append(project['hl_name'])\n",
    "        last_update.append(project['repo']['repository']['updated_at'])"
   ]
  },
  {
   "cell_type": "code",
   "execution_count": 15,
   "id": "353bec85-a26a-4ef7-9ebe-94d3ab60b901",
   "metadata": {},
   "outputs": [],
   "source": [
    "projects_df = pd.DataFrame({'Project':project_name, 'Last Update':last_update})"
   ]
  },
  {
   "cell_type": "code",
   "execution_count": 16,
   "id": "8fc3c5c1-da0d-444e-bc1b-ed9c9679bac9",
   "metadata": {},
   "outputs": [
    {
     "data": {
      "text/html": [
       "<div>\n",
       "<style scoped>\n",
       "    .dataframe tbody tr th:only-of-type {\n",
       "        vertical-align: middle;\n",
       "    }\n",
       "\n",
       "    .dataframe tbody tr th {\n",
       "        vertical-align: top;\n",
       "    }\n",
       "\n",
       "    .dataframe thead th {\n",
       "        text-align: right;\n",
       "    }\n",
       "</style>\n",
       "<table border=\"1\" class=\"dataframe\">\n",
       "  <thead>\n",
       "    <tr style=\"text-align: right;\">\n",
       "      <th></th>\n",
       "      <th>Project</th>\n",
       "      <th>Last Update</th>\n",
       "    </tr>\n",
       "  </thead>\n",
       "  <tbody>\n",
       "    <tr>\n",
       "      <th>0</th>\n",
       "      <td>vuejs/awesome-vue</td>\n",
       "      <td>2024-02-05T19:41:07.182Z</td>\n",
       "    </tr>\n",
       "    <tr>\n",
       "      <th>1</th>\n",
       "      <td>typicode/json-server</td>\n",
       "      <td>2024-02-07T04:28:53.165Z</td>\n",
       "    </tr>\n",
       "    <tr>\n",
       "      <th>2</th>\n",
       "      <td>jaywcjlove/awesome-mac</td>\n",
       "      <td>2024-02-06T02:31:08.682Z</td>\n",
       "    </tr>\n",
       "    <tr>\n",
       "      <th>3</th>\n",
       "      <td>oven-sh/bun</td>\n",
       "      <td>2024-02-09T16:46:42.948Z</td>\n",
       "    </tr>\n",
       "    <tr>\n",
       "      <th>4</th>\n",
       "      <td>tiangolo/fastapi</td>\n",
       "      <td>2024-02-09T16:01:57.888Z</td>\n",
       "    </tr>\n",
       "    <tr>\n",
       "      <th>...</th>\n",
       "      <td>...</td>\n",
       "      <td>...</td>\n",
       "    </tr>\n",
       "    <tr>\n",
       "      <th>95</th>\n",
       "      <td>scutan90/DeepLearning-500-questions</td>\n",
       "      <td>2023-11-28T04:45:49.455Z</td>\n",
       "    </tr>\n",
       "    <tr>\n",
       "      <th>96</th>\n",
       "      <td>xtekky/gpt4free</td>\n",
       "      <td>2024-02-09T17:12:04.943Z</td>\n",
       "    </tr>\n",
       "    <tr>\n",
       "      <th>97</th>\n",
       "      <td>prakhar1989/awesome-courses</td>\n",
       "      <td>2023-05-04T12:49:34.238Z</td>\n",
       "    </tr>\n",
       "    <tr>\n",
       "      <th>98</th>\n",
       "      <td>caddyserver/caddy</td>\n",
       "      <td>2024-02-09T08:41:45.708Z</td>\n",
       "    </tr>\n",
       "    <tr>\n",
       "      <th>99</th>\n",
       "      <td>danielmiessler/SecLists</td>\n",
       "      <td>2024-02-09T00:18:32.702Z</td>\n",
       "    </tr>\n",
       "  </tbody>\n",
       "</table>\n",
       "<p>100 rows × 2 columns</p>\n",
       "</div>"
      ],
      "text/plain": [
       "                                Project               Last Update\n",
       "0                     vuejs/awesome-vue  2024-02-05T19:41:07.182Z\n",
       "1                  typicode/json-server  2024-02-07T04:28:53.165Z\n",
       "2                jaywcjlove/awesome-mac  2024-02-06T02:31:08.682Z\n",
       "3                           oven-sh/bun  2024-02-09T16:46:42.948Z\n",
       "4                      tiangolo/fastapi  2024-02-09T16:01:57.888Z\n",
       "..                                  ...                       ...\n",
       "95  scutan90/DeepLearning-500-questions  2023-11-28T04:45:49.455Z\n",
       "96                      xtekky/gpt4free  2024-02-09T17:12:04.943Z\n",
       "97          prakhar1989/awesome-courses  2023-05-04T12:49:34.238Z\n",
       "98                    caddyserver/caddy  2024-02-09T08:41:45.708Z\n",
       "99              danielmiessler/SecLists  2024-02-09T00:18:32.702Z\n",
       "\n",
       "[100 rows x 2 columns]"
      ]
     },
     "execution_count": 16,
     "metadata": {},
     "output_type": "execute_result"
    }
   ],
   "source": [
    "projects_df"
   ]
  },
  {
   "cell_type": "code",
   "execution_count": 9,
   "id": "e45ba881-3f80-4684-89e1-0a80ca5fcddd",
   "metadata": {},
   "outputs": [],
   "source": [
    "projects_df.to_excel('projects_test.xlsx', index=False)"
   ]
  },
  {
   "cell_type": "code",
   "execution_count": null,
   "id": "b01c14cc-6e11-4395-9063-29aa58684bb6",
   "metadata": {},
   "outputs": [],
   "source": []
  }
 ],
 "metadata": {
  "kernelspec": {
   "display_name": "Python 3 (ipykernel)",
   "language": "python",
   "name": "python3"
  },
  "language_info": {
   "codemirror_mode": {
    "name": "ipython",
    "version": 3
   },
   "file_extension": ".py",
   "mimetype": "text/x-python",
   "name": "python",
   "nbconvert_exporter": "python",
   "pygments_lexer": "ipython3",
   "version": "3.10.12"
  }
 },
 "nbformat": 4,
 "nbformat_minor": 5
}
