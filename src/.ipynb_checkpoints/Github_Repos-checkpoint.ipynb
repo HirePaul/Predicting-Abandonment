{
 "cells": [
  {
   "cell_type": "markdown",
   "id": "3ca92efd-5d55-4d72-af95-ed020b09a5ac",
   "metadata": {},
   "source": [
    "Scraping Github Repos from multiple pages"
   ]
  },
  {
   "cell_type": "code",
   "execution_count": 1,
   "id": "ac61e5c7-ea5c-48c9-ab38-cdbbefb093ae",
   "metadata": {},
   "outputs": [
    {
     "name": "stderr",
     "output_type": "stream",
     "text": [
      "/tmp/ipykernel_570/4032102518.py:2: DeprecationWarning: \n",
      "Pyarrow will become a required dependency of pandas in the next major release of pandas (pandas 3.0),\n",
      "(to allow more performant data types, such as the Arrow string type, and better interoperability with other libraries)\n",
      "but was not found to be installed on your system.\n",
      "If this would cause problems for you,\n",
      "please provide us feedback at https://github.com/pandas-dev/pandas/issues/54466\n",
      "        \n",
      "  import pandas as pd\n"
     ]
    }
   ],
   "source": [
    "import requests\n",
    "import pandas as pd\n",
    "import time"
   ]
  },
  {
   "cell_type": "code",
   "execution_count": 2,
   "id": "001626a4-457f-4a11-baac-c567627f6f60",
   "metadata": {},
   "outputs": [],
   "source": [
    "project_name = []\n",
    "last_update = []"
   ]
  },
  {
   "cell_type": "code",
   "execution_count": 9,
   "id": "d63278ee-b8e7-4bc6-a8a5-7f9373a3ac87",
   "metadata": {},
   "outputs": [],
   "source": [
    "def get_projects(stars_range):\n",
    "    i = 1;\n",
    "    while i <= 3:\n",
    "        \n",
    "        headers = {\n",
    "            'authority': 'github.com',\n",
    "            'accept': 'application/json',\n",
    "            'accept-language': 'en-US,en;q=0.9',\n",
    "            'referer': 'https://github.com/search?q=stars%3A{stars_range}&type=repositories&p=1',\n",
    "            'sec-ch-ua': '\"Not A(Brand\";v=\"99\", \"Google Chrome\";v=\"121\", \"Chromium\";v=\"121\"',\n",
    "            'sec-ch-ua-mobile': '?0',\n",
    "            'sec-ch-ua-platform': '\"Windows\"',\n",
    "            'sec-fetch-dest': 'empty',\n",
    "            'sec-fetch-mode': 'cors',\n",
    "            'sec-fetch-site': 'same-origin',\n",
    "            'user-agent': 'Mozilla/5.0 (Windows NT 10.0; Win64; x64) AppleWebKit/537.36 (KHTML, like Gecko) Chrome/121.0.0.0 Safari/537.36',\n",
    "            'x-github-target': 'dotcom',\n",
    "            'x-requested-with': 'XMLHttpRequest',\n",
    "        }\n",
    "        print('stars:{stars_range}')\n",
    "        params = {\n",
    "            'q': 'stars:{stars_range}',\n",
    "            'type': 'repositories',\n",
    "            'p': str(i),\n",
    "        }\n",
    "        \n",
    "        try:\n",
    "            # response variable\n",
    "            response = requests.get('https://github.com/search', params=params, headers=headers) \n",
    "            response.raise_for_status()\n",
    "            print(f\"Page {i} - Status Code: {response.status_code}\")\n",
    "            \n",
    "            # json object\n",
    "            results_json = response.json()\n",
    "            \n",
    "        except requests.exceptions.RequestException as e:\n",
    "            print(f\"Request failed on page {i}: {e}\")\n",
    "            delay_seconds = 60  # default delay\n",
    "            time.sleep(delay_seconds)\n",
    "            continue\n",
    "            \n",
    "        except json.decoder.JSONDecodeError as e:\n",
    "            print(f\"JSONDecodeError on page {i}: {e}\")\n",
    "        \n",
    "        project_list = results_json['payload']['results']\n",
    "        \n",
    "        for project in project_list:\n",
    "            project_name.append(project['hl_name'])\n",
    "            last_update.append(project['repo']['repository']['updated_at'])\n",
    "        \n",
    "        i += 1\n"
   ]
  },
  {
   "cell_type": "code",
   "execution_count": 8,
   "id": "d04f9503-df30-4028-9cd5-971658a9ce46",
   "metadata": {},
   "outputs": [
    {
     "name": "stdout",
     "output_type": "stream",
     "text": [
      "Page 1 - Status Code: 200\n",
      "{'payload': {'header_redesign_enabled': True, 'results': [], 'type': 'repositories', 'page': 1, 'page_count': 0, 'elapsed_millis': 44, 'errors': [], 'result_count': 0, 'facets': [], 'protected_org_logins': [], 'topics': None, 'query_id': '', 'logged_in': True, 'sign_up_path': '/signup?source=code_search_results', 'sign_in_path': '/login?return_to=https%3A%2F%2Fgithub.com%2Fsearch%3Fq%3Dstars%253A%7Bstars_range%7D%26type%3Drepositories%26p%3D1', 'metadata': None, 'csrf_tokens': {'/sponsors/batch_deferred_sponsor_buttons': {'post': 'IISxw79C4VyTeOupusQIgADjXB-gW1q4YgGb6Sk8Socy6yRRmS4vm6fWD0c2UENOPurGLwgmWmUTQ2Rl3rliQA'}}}, 'title': 'Repository search results'}\n",
      "Page 2 - Status Code: 200\n",
      "{'payload': {'header_redesign_enabled': True, 'results': [], 'type': 'repositories', 'page': 2, 'page_count': 0, 'elapsed_millis': 41, 'errors': [], 'result_count': 0, 'facets': [], 'protected_org_logins': [], 'topics': None, 'query_id': '', 'logged_in': True, 'sign_up_path': '/signup?source=code_search_results', 'sign_in_path': '/login?return_to=https%3A%2F%2Fgithub.com%2Fsearch%3Fq%3Dstars%253A%7Bstars_range%7D%26type%3Drepositories%26p%3D1', 'metadata': None, 'csrf_tokens': {'/sponsors/batch_deferred_sponsor_buttons': {'post': 'tvbxYMeg-FBpnsy7fz2EQGejSxJs9wg4Vk3FCHnvPmukmWTy4cw2l10wKFXzqc-OWarRIsSKCOUnDzqEjmoWrA'}}}, 'title': 'Repository search results'}\n",
      "Page 3 - Status Code: 200\n",
      "{'payload': {'header_redesign_enabled': True, 'results': [], 'type': 'repositories', 'page': 3, 'page_count': 0, 'elapsed_millis': 35, 'errors': [], 'result_count': 0, 'facets': [], 'protected_org_logins': [], 'topics': None, 'query_id': '', 'logged_in': True, 'sign_up_path': '/signup?source=code_search_results', 'sign_in_path': '/login?return_to=https%3A%2F%2Fgithub.com%2Fsearch%3Fq%3Dstars%253A%7Bstars_range%7D%26type%3Drepositories%26p%3D1', 'metadata': None, 'csrf_tokens': {'/sponsors/batch_deferred_sponsor_buttons': {'post': 'lsJXtGsqgb0q1Tjd4JIp3_w_ct83nxdwxNYOgLYOIE2ErcImTUZPeh573DNsBmIRwjbo75_iF621lPEMQYsIig'}}}, 'title': 'Repository search results'}\n"
     ]
    }
   ],
   "source": [
    "get_projects('80000..100000')"
   ]
  },
  {
   "cell_type": "code",
   "execution_count": 5,
   "id": "353bec85-a26a-4ef7-9ebe-94d3ab60b901",
   "metadata": {},
   "outputs": [],
   "source": [
    "projects_df = pd.DataFrame({'Project':project_name, 'Last Update':last_update})"
   ]
  },
  {
   "cell_type": "code",
   "execution_count": 6,
   "id": "8fc3c5c1-da0d-444e-bc1b-ed9c9679bac9",
   "metadata": {},
   "outputs": [
    {
     "data": {
      "text/html": [
       "<div>\n",
       "<style scoped>\n",
       "    .dataframe tbody tr th:only-of-type {\n",
       "        vertical-align: middle;\n",
       "    }\n",
       "\n",
       "    .dataframe tbody tr th {\n",
       "        vertical-align: top;\n",
       "    }\n",
       "\n",
       "    .dataframe thead th {\n",
       "        text-align: right;\n",
       "    }\n",
       "</style>\n",
       "<table border=\"1\" class=\"dataframe\">\n",
       "  <thead>\n",
       "    <tr style=\"text-align: right;\">\n",
       "      <th></th>\n",
       "      <th>Project</th>\n",
       "      <th>Last Update</th>\n",
       "    </tr>\n",
       "  </thead>\n",
       "  <tbody>\n",
       "  </tbody>\n",
       "</table>\n",
       "</div>"
      ],
      "text/plain": [
       "Empty DataFrame\n",
       "Columns: [Project, Last Update]\n",
       "Index: []"
      ]
     },
     "execution_count": 6,
     "metadata": {},
     "output_type": "execute_result"
    }
   ],
   "source": [
    "projects_df"
   ]
  },
  {
   "cell_type": "code",
   "execution_count": 7,
   "id": "854007c4-af03-44b0-9dbf-b69d9e618d7a",
   "metadata": {},
   "outputs": [],
   "source": [
    "#projects_df.to_excel(\"projects_test.xlsx\", index=False)"
   ]
  },
  {
   "cell_type": "markdown",
   "id": "66e2aaeb-8b48-4a1a-8e2c-32fb9fff4bc6",
   "metadata": {},
   "source": [
    "try:\n",
    "    with pd.ExcelWriter(\n",
    "        \"projects_9500AndUp.xlsx\",\n",
    "        mode=\"a\",\n",
    "        engine=\"openpyxl\",\n",
    "        if_sheet_exists=\"overlay\",\n",
    "    ) as writer:\n",
    "         projects_df.to_excel(writer,sheet_name=\"Sheet1\", startrow=writer.sheets[\"Sheet1\"].max_row, index = False,header= False)\n",
    "except FileNotFoundError:\n",
    "    projects_df.to_excel(\"projects_9500AndUp.xlsx\", index=False)"
   ]
  },
  {
   "cell_type": "code",
   "execution_count": null,
   "id": "7c7d7790-650a-4390-a54b-1eadeff6f112",
   "metadata": {},
   "outputs": [],
   "source": []
  }
 ],
 "metadata": {
  "kernelspec": {
   "display_name": "Python 3 (ipykernel)",
   "language": "python",
   "name": "python3"
  },
  "language_info": {
   "codemirror_mode": {
    "name": "ipython",
    "version": 3
   },
   "file_extension": ".py",
   "mimetype": "text/x-python",
   "name": "python",
   "nbconvert_exporter": "python",
   "pygments_lexer": "ipython3",
   "version": "3.10.12"
  }
 },
 "nbformat": 4,
 "nbformat_minor": 5
}
