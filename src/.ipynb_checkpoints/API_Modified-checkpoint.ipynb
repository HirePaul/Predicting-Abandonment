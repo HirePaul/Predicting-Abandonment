{
 "cells": [
  {
   "cell_type": "code",
   "execution_count": 1,
   "id": "2786bc3f-bfd8-4403-bb72-8b386eeb623b",
   "metadata": {},
   "outputs": [],
   "source": [
    "import requests\n",
    "from requests.auth import HTTPBasicAuth \n",
    "import pandas as pd\n",
    "import time\n",
    "import os\n",
    "import math"
   ]
  },
  {
   "cell_type": "code",
   "execution_count": 2,
   "id": "14c73df3-3ff9-4d1a-aee0-851a42890d2f",
   "metadata": {},
   "outputs": [],
   "source": [
    "file_name = \"project_5000Up.xlsx\""
   ]
  },
  {
   "cell_type": "code",
   "execution_count": 3,
   "id": "50c02318-7eea-4ec8-b8ee-b5fb9b38f8c4",
   "metadata": {},
   "outputs": [],
   "source": [
    "# Import the project data from the Excel file\n",
    "project_list = pd.read_excel(f\"{file_name}\").iloc[:, 0].tolist()"
   ]
  },
  {
   "cell_type": "code",
   "execution_count": 4,
   "id": "9dbccf11-cb92-4e47-96d9-85aef9d2d89a",
   "metadata": {},
   "outputs": [],
   "source": [
    "# Initialize the lists to store the information for each repo\n",
    "repo_url= []\n",
    "repo_stars = []\n",
    "repo_wiki = []\n",
    "repo_open_issues = []\n",
    "repo_forks = []\n",
    "repo_last_update = []\n",
    "repo_size = []\n",
    "repo_created_date = []\n",
    "repo_last_push = []\n",
    "repo_language = []\n",
    "repo_discussions = []\n",
    "repo_pages = []\n",
    "repo_license = []\n",
    "repo_archived = []\n",
    "repo_projects = []\n",
    "repo_homepage = []\n",
    "repo_org = []\n",
    "repo_topics = []\n",
    "repo_ssh_url = []"
   ]
  },
  {
   "cell_type": "code",
   "execution_count": 7,
   "id": "54260bb3-f221-4595-8433-0a4f53aacda7",
   "metadata": {},
   "outputs": [],
   "source": [
    "def get_github_repo_info(project):\n",
    "    api_url = f\"https://api.github.com/repos/{project}\"\n",
    "\n",
    "    access_token = \"\"\n",
    "    headers = {\n",
    "    \"Authorization\": f\"Bearer {access_token}\",\n",
    "    \"Accept\": \"application/vnd.github.v3+json\"\n",
    "    }\n",
    "    \n",
    "    response = requests.get(api_url, headers=headers)\n",
    "\n",
    "    if response.status_code == 404:\n",
    "        return None\n",
    "\n",
    "    while response.status_code != 200:\n",
    "        print(f\"Request failed\")\n",
    "        print(response.status_code)\n",
    "        response_check = requests.get(\"https://api.github.com\", headers=headers)\n",
    "        if response_check.status_code == 403:\n",
    "            delay_seconds = 60  # default delay\n",
    "            time.sleep(delay_seconds)\n",
    "            response = requests.get(api_url, headers=headers)\n",
    "        else:\n",
    "            return None\n",
    "    \n",
    "    if response.status_code == 200:\n",
    "        repo_info = response.json()\n",
    "        \n",
    "        # Extract and print relevant information\n",
    "        repo_url.append(repo_info.get(\"html_url\", \"URL not found\"))\n",
    "        repo_stars.append(repo_info.get(\"stargazers_count\", \"Stargazers count not found\"))\n",
    "        repo_wiki.append(repo_info.get(\"has_wiki\", \"Wiki not found\"))\n",
    "        repo_open_issues.append(repo_info.get(\"open_issues_count\", \"Open issues count not found\"))\n",
    "        repo_forks.append(repo_info.get(\"forks_count\", \"Forks count not found\"))\n",
    "        repo_last_update.append(repo_info.get(\"updated_at\", \"Last update not found\"))\n",
    "        repo_size.append(repo_info.get(\"size\", \"size not found\"))\n",
    "        repo_created_date.append(repo_info.get(\"created_at\", \"Created date not found\"))\n",
    "        repo_last_push.append(repo_info.get(\"pushed_at\", \"Last push not found\"))\n",
    "        repo_language.append(repo_info.get(\"language\", \"Language not found\"))\n",
    "        repo_discussions.append(repo_info.get(\"has_discussions\", \"Discussions not found\"))\n",
    "        repo_pages.append(repo_info.get(\"has_pages\", \"Pages not found\"))\n",
    "        repo_archived.append(repo_info.get(\"archived\", \"Archived not found\"))\n",
    "        repo_projects.append(repo_info.get(\"has_projects\", \"Projects not found\"))\n",
    "        repo_topics.append(len(repo_info.get(\"topics\", \"No Topics\")))\n",
    "        repo_ssh_url.append(repo_info.get(\"ssh_url\", \"Projects not found\"))\n",
    "        repo_org.append(repo_info['owner'].get(\"type\", \"No type\"))\n",
    "        \n",
    "        # Conditional statements are to avoid possible errors\n",
    "        license = repo_info.get(\"license\", \"None\")\n",
    "        if license == \"None\" or license is None:\n",
    "            repo_license.append(\"None\")\n",
    "        else:\n",
    "            repo_license.append(license[\"spdx_id\"])\n",
    "            \n",
    "            \n",
    "        homepage = repo_info.get(\"homepage\", \"No Homepage\")\n",
    "        if homepage is None or len(homepage) == 0:\n",
    "           repo_homepage.append(\"None\")\n",
    "        else:\n",
    "            repo_homepage.append(homepage)      \n",
    "            \n",
    "        \n",
    "    else:\n",
    "        # If the request was not successful, print an error message\n",
    "        print(\"Error:\", response.status_code)\n",
    "        print(\"Response:\", response.text)"
   ]
  },
  {
   "cell_type": "code",
   "execution_count": 8,
   "id": "f32a141f-aba0-4e86-a2ce-a81fc799e27c",
   "metadata": {},
   "outputs": [
    {
     "name": "stdout",
     "output_type": "stream",
     "text": [
      "Request failed\n",
      "403\n",
      "200\n"
     ]
    },
    {
     "ename": "KeyboardInterrupt",
     "evalue": "",
     "output_type": "error",
     "traceback": [
      "\u001b[0;31m---------------------------------------------------------------------------\u001b[0m",
      "\u001b[0;31mKeyboardInterrupt\u001b[0m                         Traceback (most recent call last)",
      "Cell \u001b[0;32mIn[8], line 1\u001b[0m\n\u001b[0;32m----> 1\u001b[0m get_github_repo_info(\u001b[38;5;124m\"\u001b[39m\u001b[38;5;124maaamoon/copilot-gpt4-service\u001b[39m\u001b[38;5;124m\"\u001b[39m)\n",
      "Cell \u001b[0;32mIn[7], line 21\u001b[0m, in \u001b[0;36mget_github_repo_info\u001b[0;34m(project)\u001b[0m\n\u001b[1;32m     19\u001b[0m     response \u001b[38;5;241m=\u001b[39m requests\u001b[38;5;241m.\u001b[39mget(\u001b[38;5;124mf\u001b[39m\u001b[38;5;124m\"\u001b[39m\u001b[38;5;124mhttps://github.com/\u001b[39m\u001b[38;5;132;01m{\u001b[39;00mproject\u001b[38;5;132;01m}\u001b[39;00m\u001b[38;5;124m\"\u001b[39m)\n\u001b[1;32m     20\u001b[0m     \u001b[38;5;28mprint\u001b[39m(response\u001b[38;5;241m.\u001b[39mstatus_code)\n\u001b[0;32m---> 21\u001b[0m     time\u001b[38;5;241m.\u001b[39msleep(delay_seconds)\n\u001b[1;32m     22\u001b[0m     response \u001b[38;5;241m=\u001b[39m requests\u001b[38;5;241m.\u001b[39mget(api_url, headers\u001b[38;5;241m=\u001b[39mheaders)\n\u001b[1;32m     24\u001b[0m \u001b[38;5;28;01mif\u001b[39;00m response\u001b[38;5;241m.\u001b[39mstatus_code \u001b[38;5;241m==\u001b[39m \u001b[38;5;241m200\u001b[39m:\n",
      "\u001b[0;31mKeyboardInterrupt\u001b[0m: "
     ]
    }
   ],
   "source": [
    "get_github_repo_info(\"aaamoon/copilot-gpt4-service\")"
   ]
  },
  {
   "cell_type": "code",
   "execution_count": 36,
   "id": "a5bf7a60-3f43-45ef-a90f-18b10324e435",
   "metadata": {},
   "outputs": [
    {
     "name": "stdout",
     "output_type": "stream",
     "text": [
      "https://github.com/freeCodeCamp/freeCodeCamp\n",
      "Request failed\n",
      "403\n",
      "Request failed\n",
      "403\n",
      "Request failed\n",
      "403\n",
      "Request failed\n",
      "403\n"
     ]
    },
    {
     "ename": "KeyboardInterrupt",
     "evalue": "",
     "output_type": "error",
     "traceback": [
      "\u001b[0;31m---------------------------------------------------------------------------\u001b[0m",
      "\u001b[0;31mKeyboardInterrupt\u001b[0m                         Traceback (most recent call last)",
      "Cell \u001b[0;32mIn[36], line 4\u001b[0m\n\u001b[1;32m      2\u001b[0m \u001b[38;5;28mprint\u001b[39m(project)\n\u001b[1;32m      3\u001b[0m project \u001b[38;5;241m=\u001b[39m project[\u001b[38;5;241m19\u001b[39m:]\n\u001b[0;32m----> 4\u001b[0m \u001b[43mget_github_repo_info\u001b[49m\u001b[43m(\u001b[49m\u001b[43mproject\u001b[49m\u001b[43m)\u001b[49m\n",
      "Cell \u001b[0;32mIn[35], line 18\u001b[0m, in \u001b[0;36mget_github_repo_info\u001b[0;34m(project)\u001b[0m\n\u001b[1;32m     16\u001b[0m     \u001b[38;5;28mprint\u001b[39m(response\u001b[38;5;241m.\u001b[39mstatus_code)\n\u001b[1;32m     17\u001b[0m     delay_seconds \u001b[38;5;241m=\u001b[39m \u001b[38;5;241m60\u001b[39m  \u001b[38;5;66;03m# default delay\u001b[39;00m\n\u001b[0;32m---> 18\u001b[0m     \u001b[43mtime\u001b[49m\u001b[38;5;241;43m.\u001b[39;49m\u001b[43msleep\u001b[49m\u001b[43m(\u001b[49m\u001b[43mdelay_seconds\u001b[49m\u001b[43m)\u001b[49m\n\u001b[1;32m     19\u001b[0m     response \u001b[38;5;241m=\u001b[39m requests\u001b[38;5;241m.\u001b[39mget(api_url, headers\u001b[38;5;241m=\u001b[39mheaders)\n\u001b[1;32m     21\u001b[0m \u001b[38;5;28;01mif\u001b[39;00m response\u001b[38;5;241m.\u001b[39mstatus_code \u001b[38;5;241m==\u001b[39m \u001b[38;5;241m200\u001b[39m:\n",
      "\u001b[0;31mKeyboardInterrupt\u001b[0m: "
     ]
    }
   ],
   "source": [
    "for project in project_list:\n",
    "    print(project)\n",
    "    project = project[19:]\n",
    "    get_github_repo_info(project)"
   ]
  },
  {
   "cell_type": "code",
   "execution_count": null,
   "id": "b4824b87-562a-4a0c-b125-981b64ea2851",
   "metadata": {},
   "outputs": [],
   "source": [
    "projects_df = pd.DataFrame({'Project URL':repo_url,\n",
    "                            'Clone SSH URL':repo_ssh_url,\n",
    "                            'Organization':repo_org,\n",
    "                            'Homepage':repo_homepage,\n",
    "                            'Last Update':repo_last_update, \n",
    "                            'Last Push':repo_last_push,\n",
    "                            'Created Date':repo_created_date,\n",
    "                            'Archived':repo_archived,\n",
    "                            'Size':repo_size, \n",
    "                            'Number of Stars':repo_stars, \n",
    "                            #'Number of Watches':repo_watches, \n",
    "                            'Number of Open Issues':repo_open_issues, \n",
    "                            'Number of forks':repo_forks, \n",
    "                            'Has a Wiki':repo_wiki,\n",
    "                            'Has Discussions':repo_discussions,\n",
    "                            'Has Projects':repo_projects,\n",
    "                            'Has Pages':repo_pages,\n",
    "                            'License':repo_license,\n",
    "                            'Language':repo_language,\n",
    "                            'Topics': repo_topics})"
   ]
  },
  {
   "cell_type": "code",
   "execution_count": null,
   "id": "da827dd8-ddfc-4abc-ab62-849ac4eb2b8b",
   "metadata": {},
   "outputs": [],
   "source": [
    "projects_df"
   ]
  },
  {
   "cell_type": "code",
   "execution_count": null,
   "id": "33068995-e399-4f00-8572-cad617587bf4",
   "metadata": {},
   "outputs": [],
   "source": [
    "try:\n",
    "    with pd.ExcelWriter(\n",
    "        \"project_100..177.xlsx\",\n",
    "        mode=\"a\",\n",
    "        engine=\"openpyxl\",\n",
    "        if_sheet_exists=\"overlay\",\n",
    "    ) as writer:\n",
    "         projects_df.to_excel(writer,sheet_name=\"Sheet1\", startrow=writer.sheets[\"Sheet1\"].max_row, index = False,header= False)\n",
    "except FileNotFoundError:\n",
    "    projects_df.to_excel(\"project_100..177.xlsx\", index=False)"
   ]
  },
  {
   "cell_type": "code",
   "execution_count": null,
   "id": "20226f01-cc67-47b0-b438-166383a747e4",
   "metadata": {},
   "outputs": [],
   "source": []
  }
 ],
 "metadata": {
  "kernelspec": {
   "display_name": "Python 3 (ipykernel)",
   "language": "python",
   "name": "python3"
  },
  "language_info": {
   "codemirror_mode": {
    "name": "ipython",
    "version": 3
   },
   "file_extension": ".py",
   "mimetype": "text/x-python",
   "name": "python",
   "nbconvert_exporter": "python",
   "pygments_lexer": "ipython3",
   "version": "3.11.5"
  }
 },
 "nbformat": 4,
 "nbformat_minor": 5
}
