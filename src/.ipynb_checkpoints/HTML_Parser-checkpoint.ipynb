{
 "cells": [
  {
   "cell_type": "code",
<<<<<<< HEAD
   "execution_count": 12,
=======
   "execution_count": 527,
>>>>>>> 03ec3441ddefe799e92b8a4b09a4f3c84c27697f
   "id": "5ff164c2",
   "metadata": {},
   "outputs": [],
   "source": [
    "from selenium import webdriver\n",
<<<<<<< HEAD
    "import pandas as pd\n",
    "import time\n",
    "import os\n",
    "from bs4 import BeautifulSoup"
=======
    "from selenium.webdriver.chrome.options import Options\n",
    "from selenium.webdriver.support.ui import WebDriverWait\n",
    "from selenium.webdriver.support import expected_conditions as EC\n",
    "from selenium.webdriver.common.by import By\n",
    "import pandas as pd\n",
    "import time\n",
    "from bs4 import BeautifulSoup\n",
    "import threading"
>>>>>>> 03ec3441ddefe799e92b8a4b09a4f3c84c27697f
   ]
  },
  {
   "cell_type": "code",
<<<<<<< HEAD
   "execution_count": 44,
=======
   "execution_count": 528,
>>>>>>> 03ec3441ddefe799e92b8a4b09a4f3c84c27697f
   "id": "03b2ea56",
   "metadata": {},
   "outputs": [],
   "source": [
    "# Declare the lists for each feature to be scraped\n",
    "repo_url = []\n",
    "repo_watches = []\n",
<<<<<<< HEAD
    "repo_sponsors = []"
=======
    "repo_sponsors = []\n",
    "repo_open_issues = []\n",
    "repo_closed_issues = []\n",
    "repo_labels = []\n",
    "repo_milestones = []\n",
    "repo_open_prs = []\n",
    "repo_closed_prs = []"
>>>>>>> 03ec3441ddefe799e92b8a4b09a4f3c84c27697f
   ]
  },
  {
   "cell_type": "code",
<<<<<<< HEAD
   "execution_count": 45,
=======
   "execution_count": 529,
>>>>>>> 03ec3441ddefe799e92b8a4b09a4f3c84c27697f
   "id": "46f28d8d",
   "metadata": {},
   "outputs": [],
   "source": [
    "# Potential Scrapes:\n",
<<<<<<< HEAD
    "# ../issues\n",
=======
    "# ../issues => Open/closed issues, # of labels, # of milestones\n",
>>>>>>> 03ec3441ddefe799e92b8a4b09a4f3c84c27697f
    "# ../pulls\n",
    "# ../actions => # of workflow runs\n",
    "# ../pulse => Active pr and Active issues\n",
    "# ../network/dependencies\n",
    "# Sponsered\n",
    "# Watches\n",
    "# \n",
    "# Ones in Bash Script:\n",
    "# Commits\n",
    "# Tags/Releases\n",
    "# Branches\n",
    "# Languages\n",
    "# Contributors\n",
    "\n",
<<<<<<< HEAD
=======
    "# Headless mode for Chrome\n",
    "chrome_options = Options()\n",
    "chrome_options.add_argument(\"--disable-extensions\")\n",
    "chrome_options.add_argument(\"--disable-gpu\")\n",
    "chrome_options.add_argument(\"--headless=new\")\n",
    "chrome_options.add_argument(\"--no-sandbox\")\n",
    "chrome_options.add_argument(\"--disable-dev-shm-usage\")\n",
    "chrome_options.add_argument(\"--disable-renderer-backgrounding\")\n",
    "chrome_options.add_argument(\"--disable-background-timer-throttling\")\n",
    "chrome_options.add_argument(\"--disable-backgrounding-occluded-windows\")\n",
    "chrome_options.add_argument(\"--disable-client-side-phishing-detection\")\n",
    "chrome_options.add_argument(\"--disable-crash-reporter\")\n",
    "chrome_options.add_argument(\"--disable-oopr-debug-crash-dump\")\n",
    "chrome_options.add_argument(\"--no-crash-upload\")\n",
    "chrome_options.add_argument(\"--disable-gpu\")\n",
    "chrome_options.add_argument(\"--disable-extensions\")\n",
    "chrome_options.add_argument(\"--disable-low-res-tiling\")\n",
    "chrome_options.add_argument(\"--log-level=3\")\n",
    "chrome_options.add_argument(\"--silent\")\n",
    "\n",
>>>>>>> 03ec3441ddefe799e92b8a4b09a4f3c84c27697f
    "def scrape_page(project_url):\n",
    "    # Add url to list\n",
    "    repo_url.append(project_url)\n",
    "    \n",
    "    # Set up Web Driver\n",
<<<<<<< HEAD
    "    driver = webdriver.Chrome()\n",
=======
    "    driver = webdriver.Chrome(options=chrome_options)\n",
>>>>>>> 03ec3441ddefe799e92b8a4b09a4f3c84c27697f
    "    driver.get(project_url)\n",
    "    html = driver.page_source\n",
    "    soup = BeautifulSoup(html,\"html.parser\")\n",
    "    \n",
<<<<<<< HEAD
    "    # Parse HTML\n",
    "    project = project_url[19:]\n",
    "    num_watches = soup.find(href=f\"/{project}/watchers\").find(\"strong\").text\n",
    "    \n",
    "    creator = project.split('/')[0]\n",
    "    sponsored = \"Yes\" if soup.find(href=f\"/sponsors/{creator}\") else \"No\"\n",
    "    \n",
    "    # Add to list\n",
    "    repo_watches.append(num_watches)\n",
    "    repo_sponsors.append(sponsored)\n",
    "    \n",
    "    # Close window\n",
    "    driver.close()"
=======
    "    # Wait for the document to be in 'complete' state\n",
    "    WebDriverWait(driver, 10).until(\n",
    "        EC.presence_of_element_located((By.TAG_NAME, 'body'))\n",
    "    )\n",
    "    \n",
    "    # Get the OWNER/REPO\n",
    "    project = project_url[19:]\n",
    "    \n",
    "    # Parse HTML\n",
    "    # Get number of watches and sponsered?\n",
    "    num_watches = soup.find(href=f\"/{project}/watchers\").find(\"strong\").text\n",
    "    \n",
    "    creator = project.split('/')[0]\n",
    "    sponsored = \"Yes\" if soup.find(href=f\"/sponsors/{creator}\") != None else \"No\"\n",
    "    \n",
    "    repo_watches.append(num_watches)\n",
    "    repo_sponsors.append(sponsored)\n",
    "    \n",
    "    \n",
    "    # Issues\n",
    "    issue_url = project_url + \"/issues\"\n",
    "    driver.get(issue_url)\n",
    "    html = driver.page_source\n",
    "    soup = BeautifulSoup(html,\"html.parser\")\n",
    "    \n",
    "    open_issues = soup.find(href=f\"/{project}/issues?q=is%3Aopen+is%3Aissue\").text.split()[0]\n",
    "    closed_issues = soup.find(href=f\"/{project}/issues?q=is%3Aissue+is%3Aclosed\").text.split()[0]\n",
    "    num_labels = soup.find(href=f\"/{project}/labels\").find(\"span\").text\n",
    "    num_milestones = soup.find(href=f\"/{project}/milestones\").find(\"span\").text\n",
    "    \n",
    "    repo_open_issues.append(open_issues)\n",
    "    repo_closed_issues.append(closed_issues)\n",
    "    repo_labels.append(num_labels)\n",
    "    repo_milestones.append(num_milestones)\n",
    "    \n",
    "    \n",
    "    # Pull Requests\n",
    "    pull_url = project_url + \"/pulls\"\n",
    "    driver.get(pull_url)\n",
    "    html = driver.page_source\n",
    "    soup = BeautifulSoup(html,\"html.parser\")\n",
    "    \n",
    "    open_prs = soup.find(href=f\"/{project}/pulls?q=is%3Aopen+is%3Apr\").text.split()[0]\n",
    "    closed_prs = soup.find(href=f\"/{project}/pulls?q=is%3Apr+is%3Aclosed\").text.split()[0]\n",
    "    \n",
    "    repo_open_prs.append(open_prs)\n",
    "    repo_closed_prs.append(closed_prs)\n",
    "    \n",
    "    # Clean close the Web Session and window(s)\n",
    "    driver.quit()"
>>>>>>> 03ec3441ddefe799e92b8a4b09a4f3c84c27697f
   ]
  },
  {
   "cell_type": "code",
<<<<<<< HEAD
   "execution_count": 46,
   "id": "be5ad0f6",
   "metadata": {},
   "outputs": [
    {
     "name": "stdout",
     "output_type": "stream",
     "text": [
      "twbs/bootstrap\n",
      "freeCodeCamp/freeCodeCamp\n"
     ]
    }
   ],
=======
   "execution_count": 530,
   "id": "be5ad0f6",
   "metadata": {},
   "outputs": [],
>>>>>>> 03ec3441ddefe799e92b8a4b09a4f3c84c27697f
   "source": [
    "#df = pd.read_excel('projects.xlsx') # can also index sheet by name or fetch all sheets\n",
    "#project_list = df['Project'].tolist()\n",
    "\n",
<<<<<<< HEAD
    "#for project in project_list:\n",
    "    #scrape_page(project)\n",
    "\n",
    "scrape_page(\"https://github.com/twbs/bootstrap\")\n",
    "scrape_page(\"https://github.com/freeCodeCamp/freeCodeCamp\")"
=======
    "project_list = [\"https://github.com/twbs/bootstrap\", \"https://github.com/freeCodeCamp/freeCodeCamp\"]\n",
    "for project in project_list:\n",
    "    thread = threading.Thread(name=project,target=scrape_page(project))\n",
    "    thread.start()"
>>>>>>> 03ec3441ddefe799e92b8a4b09a4f3c84c27697f
   ]
  },
  {
   "cell_type": "code",
<<<<<<< HEAD
   "execution_count": 47,
=======
   "execution_count": 531,
>>>>>>> 03ec3441ddefe799e92b8a4b09a4f3c84c27697f
   "id": "43a81479",
   "metadata": {},
   "outputs": [],
   "source": [
    "projects_df = pd.DataFrame({'Project URL':repo_url, \n",
    "                            'Number of Watches':repo_watches,\n",
<<<<<<< HEAD
    "                            'Sponsored':repo_sponsors})"
=======
    "                            'Sponsored':repo_sponsors,\n",
    "                            'Open Issues':repo_open_issues,\n",
    "                            'Closed Issues':repo_closed_issues,\n",
    "                            'Number of Labels':repo_labels,\n",
    "                            'Number of Milestones':repo_milestones,\n",
    "                            'Open Pull Requests':repo_open_prs,\n",
    "                            'Closed Pull Requests':repo_closed_prs})"
>>>>>>> 03ec3441ddefe799e92b8a4b09a4f3c84c27697f
   ]
  },
  {
   "cell_type": "code",
<<<<<<< HEAD
   "execution_count": 48,
=======
   "execution_count": 532,
>>>>>>> 03ec3441ddefe799e92b8a4b09a4f3c84c27697f
   "id": "8cdbe4db",
   "metadata": {},
   "outputs": [
    {
     "data": {
      "text/html": [
       "<div>\n",
       "<style scoped>\n",
       "    .dataframe tbody tr th:only-of-type {\n",
       "        vertical-align: middle;\n",
       "    }\n",
       "\n",
       "    .dataframe tbody tr th {\n",
       "        vertical-align: top;\n",
       "    }\n",
       "\n",
       "    .dataframe thead th {\n",
       "        text-align: right;\n",
       "    }\n",
       "</style>\n",
       "<table border=\"1\" class=\"dataframe\">\n",
       "  <thead>\n",
       "    <tr style=\"text-align: right;\">\n",
       "      <th></th>\n",
       "      <th>Project URL</th>\n",
       "      <th>Number of Watches</th>\n",
       "      <th>Sponsored</th>\n",
<<<<<<< HEAD
=======
       "      <th>Open Issues</th>\n",
       "      <th>Closed Issues</th>\n",
       "      <th>Number of Labels</th>\n",
       "      <th>Number of Milestones</th>\n",
       "      <th>Open Pull Requests</th>\n",
       "      <th>Closed Pull Requests</th>\n",
>>>>>>> 03ec3441ddefe799e92b8a4b09a4f3c84c27697f
       "    </tr>\n",
       "  </thead>\n",
       "  <tbody>\n",
       "    <tr>\n",
       "      <th>0</th>\n",
       "      <td>https://github.com/twbs/bootstrap</td>\n",
       "      <td>6.8k</td>\n",
       "      <td>Yes</td>\n",
<<<<<<< HEAD
=======
       "      <td>395</td>\n",
       "      <td>21,899</td>\n",
       "      <td>60</td>\n",
       "      <td>0</td>\n",
       "      <td>135</td>\n",
       "      <td>14,898</td>\n",
>>>>>>> 03ec3441ddefe799e92b8a4b09a4f3c84c27697f
       "    </tr>\n",
       "    <tr>\n",
       "      <th>1</th>\n",
       "      <td>https://github.com/freeCodeCamp/freeCodeCamp</td>\n",
       "      <td>8.5k</td>\n",
       "      <td>Yes</td>\n",
<<<<<<< HEAD
=======
       "      <td>267</td>\n",
       "      <td>17,403</td>\n",
       "      <td>44</td>\n",
       "      <td>4</td>\n",
       "      <td>46</td>\n",
       "      <td>35,497</td>\n",
>>>>>>> 03ec3441ddefe799e92b8a4b09a4f3c84c27697f
       "    </tr>\n",
       "  </tbody>\n",
       "</table>\n",
       "</div>"
      ],
      "text/plain": [
<<<<<<< HEAD
       "                                    Project URL Number of Watches Sponsored\n",
       "0             https://github.com/twbs/bootstrap              6.8k       Yes\n",
       "1  https://github.com/freeCodeCamp/freeCodeCamp              8.5k       Yes"
      ]
     },
     "execution_count": 48,
=======
       "                                    Project URL Number of Watches Sponsored  \\\n",
       "0             https://github.com/twbs/bootstrap              6.8k       Yes   \n",
       "1  https://github.com/freeCodeCamp/freeCodeCamp              8.5k       Yes   \n",
       "\n",
       "  Open Issues Closed Issues Number of Labels Number of Milestones  \\\n",
       "0         395        21,899               60                    0   \n",
       "1         267        17,403               44                    4   \n",
       "\n",
       "  Open Pull Requests Closed Pull Requests  \n",
       "0                135               14,898  \n",
       "1                 46               35,497  "
      ]
     },
     "execution_count": 532,
>>>>>>> 03ec3441ddefe799e92b8a4b09a4f3c84c27697f
     "metadata": {},
     "output_type": "execute_result"
    }
   ],
   "source": [
    "projects_df"
   ]
  },
  {
   "cell_type": "code",
   "execution_count": null,
<<<<<<< HEAD
   "id": "cacc92f7",
   "metadata": {},
   "outputs": [],
=======
   "id": "664715f8",
   "metadata": {},
   "outputs": [],
   "source": []
  },
  {
   "cell_type": "markdown",
   "id": "0b3cfd35",
   "metadata": {},
>>>>>>> 03ec3441ddefe799e92b8a4b09a4f3c84c27697f
   "source": [
    "try:\n",
    "    with pd.ExcelWriter(\n",
    "        \"project_HTMLfeatures.xlsx\",\n",
    "        mode=\"a\",\n",
    "        engine=\"openpyxl\",\n",
    "        if_sheet_exists=\"overlay\",\n",
    "    ) as writer:\n",
    "         projects_df.to_excel(writer,sheet_name=\"Sheet1\", startrow=writer.sheets[\"Sheet1\"].max_row, index = False,header= False)\n",
    "except FileNotFoundError:\n",
    "    projects_df.to_excel(\"project_HTMLfeatures.xlsx\", index=False)"
   ]
  }
 ],
 "metadata": {
  "kernelspec": {
   "display_name": "Python 3 (ipykernel)",
   "language": "python",
   "name": "python3"
  },
  "language_info": {
   "codemirror_mode": {
    "name": "ipython",
    "version": 3
   },
   "file_extension": ".py",
   "mimetype": "text/x-python",
   "name": "python",
   "nbconvert_exporter": "python",
   "pygments_lexer": "ipython3",
   "version": "3.11.5"
  }
 },
 "nbformat": 4,
 "nbformat_minor": 5
}
