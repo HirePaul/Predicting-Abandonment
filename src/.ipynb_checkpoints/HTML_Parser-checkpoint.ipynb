{
 "cells": [
  {
   "cell_type": "code",
   "execution_count": 12,
   "id": "5ff164c2",
   "metadata": {},
   "outputs": [],
   "source": [
    "from selenium import webdriver\n",
    "import pandas as pd\n",
    "import time\n",
    "import os\n",
    "from bs4 import BeautifulSoup"
   ]
  },
  {
   "cell_type": "code",
   "execution_count": 44,
   "id": "03b2ea56",
   "metadata": {},
   "outputs": [],
   "source": [
    "# Declare the lists for each feature to be scraped\n",
    "repo_url = []\n",
    "repo_watches = []\n",
    "repo_sponsors = []"
   ]
  },
  {
   "cell_type": "code",
   "execution_count": 45,
   "id": "46f28d8d",
   "metadata": {},
   "outputs": [],
   "source": [
    "# Potential Scrapes:\n",
    "# ../issues\n",
    "# ../pulls\n",
    "# ../actions => # of workflow runs\n",
    "# ../pulse => Active pr and Active issues\n",
    "# ../network/dependencies\n",
    "# Sponsered\n",
    "# Watches\n",
    "# \n",
    "# Ones in Bash Script:\n",
    "# Commits\n",
    "# Tags/Releases\n",
    "# Branches\n",
    "# Languages\n",
    "# Contributors\n",
    "\n",
    "def scrape_page(project_url):\n",
    "    # Add url to list\n",
    "    repo_url.append(project_url)\n",
    "    \n",
    "    # Set up Web Driver\n",
    "    driver = webdriver.Chrome()\n",
    "    driver.get(project_url)\n",
    "    html = driver.page_source\n",
    "    soup = BeautifulSoup(html,\"html.parser\")\n",
    "    \n",
    "    # Parse HTML\n",
    "    project = project_url[19:]\n",
    "    num_watches = soup.find(href=f\"/{project}/watchers\").find(\"strong\").text\n",
    "    \n",
    "    creator = project.split('/')[0]\n",
    "    sponsored = \"Yes\" if soup.find(href=f\"/sponsors/{creator}\") else \"No\"\n",
    "    \n",
    "    # Add to list\n",
    "    repo_watches.append(num_watches)\n",
    "    repo_sponsors.append(sponsored)\n",
    "    \n",
    "    # Close window\n",
    "    driver.close()"
   ]
  },
  {
   "cell_type": "code",
   "execution_count": 46,
   "id": "be5ad0f6",
   "metadata": {},
   "outputs": [
    {
     "name": "stdout",
     "output_type": "stream",
     "text": [
      "twbs/bootstrap\n",
      "freeCodeCamp/freeCodeCamp\n"
     ]
    }
   ],
   "source": [
    "#df = pd.read_excel('projects.xlsx') # can also index sheet by name or fetch all sheets\n",
    "#project_list = df['Project'].tolist()\n",
    "\n",
    "#for project in project_list:\n",
    "    #scrape_page(project)\n",
    "\n",
    "scrape_page(\"https://github.com/twbs/bootstrap\")\n",
    "scrape_page(\"https://github.com/freeCodeCamp/freeCodeCamp\")"
   ]
  },
  {
   "cell_type": "code",
   "execution_count": 47,
   "id": "43a81479",
   "metadata": {},
   "outputs": [],
   "source": [
    "projects_df = pd.DataFrame({'Project URL':repo_url, \n",
    "                            'Number of Watches':repo_watches,\n",
    "                            'Sponsored':repo_sponsors})"
   ]
  },
  {
   "cell_type": "code",
   "execution_count": 48,
   "id": "8cdbe4db",
   "metadata": {},
   "outputs": [
    {
     "data": {
      "text/html": [
       "<div>\n",
       "<style scoped>\n",
       "    .dataframe tbody tr th:only-of-type {\n",
       "        vertical-align: middle;\n",
       "    }\n",
       "\n",
       "    .dataframe tbody tr th {\n",
       "        vertical-align: top;\n",
       "    }\n",
       "\n",
       "    .dataframe thead th {\n",
       "        text-align: right;\n",
       "    }\n",
       "</style>\n",
       "<table border=\"1\" class=\"dataframe\">\n",
       "  <thead>\n",
       "    <tr style=\"text-align: right;\">\n",
       "      <th></th>\n",
       "      <th>Project URL</th>\n",
       "      <th>Number of Watches</th>\n",
       "      <th>Sponsored</th>\n",
       "    </tr>\n",
       "  </thead>\n",
       "  <tbody>\n",
       "    <tr>\n",
       "      <th>0</th>\n",
       "      <td>https://github.com/twbs/bootstrap</td>\n",
       "      <td>6.8k</td>\n",
       "      <td>Yes</td>\n",
       "    </tr>\n",
       "    <tr>\n",
       "      <th>1</th>\n",
       "      <td>https://github.com/freeCodeCamp/freeCodeCamp</td>\n",
       "      <td>8.5k</td>\n",
       "      <td>Yes</td>\n",
       "    </tr>\n",
       "  </tbody>\n",
       "</table>\n",
       "</div>"
      ],
      "text/plain": [
       "                                    Project URL Number of Watches Sponsored\n",
       "0             https://github.com/twbs/bootstrap              6.8k       Yes\n",
       "1  https://github.com/freeCodeCamp/freeCodeCamp              8.5k       Yes"
      ]
     },
     "execution_count": 48,
     "metadata": {},
     "output_type": "execute_result"
    }
   ],
   "source": [
    "projects_df"
   ]
  },
  {
   "cell_type": "code",
   "execution_count": null,
   "id": "cacc92f7",
   "metadata": {},
   "outputs": [],
   "source": [
    "try:\n",
    "    with pd.ExcelWriter(\n",
    "        \"project_HTMLfeatures.xlsx\",\n",
    "        mode=\"a\",\n",
    "        engine=\"openpyxl\",\n",
    "        if_sheet_exists=\"overlay\",\n",
    "    ) as writer:\n",
    "         projects_df.to_excel(writer,sheet_name=\"Sheet1\", startrow=writer.sheets[\"Sheet1\"].max_row, index = False,header= False)\n",
    "except FileNotFoundError:\n",
    "    projects_df.to_excel(\"project_HTMLfeatures.xlsx\", index=False)"
   ]
  }
 ],
 "metadata": {
  "kernelspec": {
   "display_name": "Python 3 (ipykernel)",
   "language": "python",
   "name": "python3"
  },
  "language_info": {
   "codemirror_mode": {
    "name": "ipython",
    "version": 3
   },
   "file_extension": ".py",
   "mimetype": "text/x-python",
   "name": "python",
   "nbconvert_exporter": "python",
   "pygments_lexer": "ipython3",
   "version": "3.11.5"
  }
 },
 "nbformat": 4,
 "nbformat_minor": 5
}
