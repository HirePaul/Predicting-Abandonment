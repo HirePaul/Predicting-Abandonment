{
 "cells": [
  {
   "cell_type": "markdown",
   "id": "3ca92efd-5d55-4d72-af95-ed020b09a5ac",
   "metadata": {},
   "source": [
    "Scraping Github Repos from multiple pages"
   ]
  },
  {
   "cell_type": "code",
   "execution_count": 1,
   "id": "ac61e5c7-ea5c-48c9-ab38-cdbbefb093ae",
   "metadata": {},
   "outputs": [
    {
     "name": "stderr",
     "output_type": "stream",
     "text": [
      "/tmp/ipykernel_570/4032102518.py:2: DeprecationWarning: \n",
      "Pyarrow will become a required dependency of pandas in the next major release of pandas (pandas 3.0),\n",
      "(to allow more performant data types, such as the Arrow string type, and better interoperability with other libraries)\n",
      "but was not found to be installed on your system.\n",
      "If this would cause problems for you,\n",
      "please provide us feedback at https://github.com/pandas-dev/pandas/issues/54466\n",
      "        \n",
      "  import pandas as pd\n"
     ]
    }
   ],
   "source": [
    "import requests\n",
    "import pandas as pd\n",
    "import time"
   ]
  },
  {
   "cell_type": "code",
   "execution_count": 55,
   "id": "001626a4-457f-4a11-baac-c567627f6f60",
   "metadata": {},
   "outputs": [],
   "source": [
    "project_name = []\n",
    "last_update = []"
   ]
  },
  {
   "cell_type": "code",
   "execution_count": 56,
   "id": "d63278ee-b8e7-4bc6-a8a5-7f9373a3ac87",
   "metadata": {},
   "outputs": [],
   "source": [
    "def get_projects(stars_range):\n",
    "    i = 1;\n",
    "    while i <= 100:\n",
    "        \n",
    "        headers = {\n",
    "            'authority': 'github.com',\n",
    "            'accept': 'application/json',\n",
    "            'accept-language': 'en-US,en;q=0.9',\n",
    "            'referer': 'https://github.com/search?q=stars%3A'+str(stars_range)+'&type=repositories&p=1',\n",
    "            'sec-ch-ua': '\"Not A(Brand\";v=\"99\", \"Google Chrome\";v=\"121\", \"Chromium\";v=\"121\"',\n",
    "            'sec-ch-ua-mobile': '?0',\n",
    "            'sec-ch-ua-platform': '\"Windows\"',\n",
    "            'sec-fetch-dest': 'empty',\n",
    "            'sec-fetch-mode': 'cors',\n",
    "            'sec-fetch-site': 'same-origin',\n",
    "            'user-agent': 'Mozilla/5.0 (Windows NT 10.0; Win64; x64) AppleWebKit/537.36 (KHTML, like Gecko) Chrome/121.0.0.0 Safari/537.36',\n",
    "            'x-github-target': 'dotcom',\n",
    "            'x-requested-with': 'XMLHttpRequest',\n",
    "        }\n",
    "\n",
    "        params = {\n",
    "            'q': 'stars:'+str(stars_range),\n",
    "            'type': 'repositories',\n",
    "            'p': str(i),\n",
    "        }\n",
    "        \n",
    "        try:\n",
    "            # response variable\n",
    "            response = requests.get('https://github.com/search', params=params, headers=headers) \n",
    "            response.raise_for_status()\n",
    "            print(f\"Page {i} - Status Code: {response.status_code}\")\n",
    "            \n",
    "            # json object\n",
    "            results_json = response.json()\n",
    "            \n",
    "        except requests.exceptions.RequestException as e:\n",
    "            print(f\"Request failed on page {i}: {e}\")\n",
    "            delay_seconds = 60  # default delay\n",
    "            time.sleep(delay_seconds)\n",
    "            continue\n",
    "            \n",
    "        except json.decoder.JSONDecodeError as e:\n",
    "            print(f\"JSONDecodeError on page {i}: {e}\")\n",
    "        \n",
    "        project_list = results_json['payload']['results']\n",
    "        if not project_list:\n",
    "            break\n",
    "        \n",
    "        for project in project_list:\n",
    "            project_name.append(project['hl_name'])\n",
    "            last_update.append(project['repo']['repository']['updated_at'])\n",
    "        \n",
    "        i += 1\n"
   ]
  },
  {
   "cell_type": "code",
   "execution_count": 57,
   "id": "d04f9503-df30-4028-9cd5-971658a9ce46",
   "metadata": {},
   "outputs": [],
   "source": [
    "# get_more_projects will collect projects within a range of stars. It includes projects with stars in the range of (low, high).\n",
    "# NOTE: low is included in the range, but high is not\n",
    "def get_more_projects(low, high):\n",
    "    while high != low:\n",
    "        get_projects(str(high-10)+'..'+str(high-1))\n",
    "        high -= 10"
   ]
  },
  {
   "cell_type": "code",
   "execution_count": 58,
   "id": "62f029b4-29f3-40df-afc5-c22685056b96",
   "metadata": {},
   "outputs": [
    {
     "name": "stdout",
     "output_type": "stream",
     "text": [
      "Request failed on page 1: 429 Client Error: Too Many Requests for url: https://github.com/search?q=stars%3A7990..7999&type=repositories&p=1\n"
     ]
    },
    {
     "ename": "KeyboardInterrupt",
     "evalue": "",
     "output_type": "error",
     "traceback": [
      "\u001b[0;31m---------------------------------------------------------------------------\u001b[0m",
      "\u001b[0;31mHTTPError\u001b[0m                                 Traceback (most recent call last)",
      "Cell \u001b[0;32mIn[56], line 30\u001b[0m, in \u001b[0;36mget_projects\u001b[0;34m(stars_range)\u001b[0m\n\u001b[1;32m     29\u001b[0m response \u001b[38;5;241m=\u001b[39m requests\u001b[38;5;241m.\u001b[39mget(\u001b[38;5;124m'\u001b[39m\u001b[38;5;124mhttps://github.com/search\u001b[39m\u001b[38;5;124m'\u001b[39m, params\u001b[38;5;241m=\u001b[39mparams, headers\u001b[38;5;241m=\u001b[39mheaders) \n\u001b[0;32m---> 30\u001b[0m \u001b[43mresponse\u001b[49m\u001b[38;5;241;43m.\u001b[39;49m\u001b[43mraise_for_status\u001b[49m\u001b[43m(\u001b[49m\u001b[43m)\u001b[49m\n\u001b[1;32m     31\u001b[0m \u001b[38;5;28mprint\u001b[39m(\u001b[38;5;124mf\u001b[39m\u001b[38;5;124m\"\u001b[39m\u001b[38;5;124mPage \u001b[39m\u001b[38;5;132;01m{\u001b[39;00mi\u001b[38;5;132;01m}\u001b[39;00m\u001b[38;5;124m - Status Code: \u001b[39m\u001b[38;5;132;01m{\u001b[39;00mresponse\u001b[38;5;241m.\u001b[39mstatus_code\u001b[38;5;132;01m}\u001b[39;00m\u001b[38;5;124m\"\u001b[39m)\n",
      "File \u001b[0;32m~/.local/lib/python3.10/site-packages/requests/models.py:1021\u001b[0m, in \u001b[0;36mResponse.raise_for_status\u001b[0;34m(self)\u001b[0m\n\u001b[1;32m   1020\u001b[0m \u001b[38;5;28;01mif\u001b[39;00m http_error_msg:\n\u001b[0;32m-> 1021\u001b[0m     \u001b[38;5;28;01mraise\u001b[39;00m HTTPError(http_error_msg, response\u001b[38;5;241m=\u001b[39m\u001b[38;5;28mself\u001b[39m)\n",
      "\u001b[0;31mHTTPError\u001b[0m: 429 Client Error: Too Many Requests for url: https://github.com/search?q=stars%3A7990..7999&type=repositories&p=1",
      "\nDuring handling of the above exception, another exception occurred:\n",
      "\u001b[0;31mKeyboardInterrupt\u001b[0m                         Traceback (most recent call last)",
      "Cell \u001b[0;32mIn[58], line 1\u001b[0m\n\u001b[0;32m----> 1\u001b[0m \u001b[43mget_more_projects\u001b[49m\u001b[43m(\u001b[49m\u001b[38;5;241;43m5000\u001b[39;49m\u001b[43m,\u001b[49m\u001b[38;5;241;43m8000\u001b[39;49m\u001b[43m)\u001b[49m\n",
      "Cell \u001b[0;32mIn[57], line 5\u001b[0m, in \u001b[0;36mget_more_projects\u001b[0;34m(low, high)\u001b[0m\n\u001b[1;32m      3\u001b[0m \u001b[38;5;28;01mdef\u001b[39;00m \u001b[38;5;21mget_more_projects\u001b[39m(low, high):\n\u001b[1;32m      4\u001b[0m     \u001b[38;5;28;01mwhile\u001b[39;00m high \u001b[38;5;241m!=\u001b[39m low:\n\u001b[0;32m----> 5\u001b[0m         \u001b[43mget_projects\u001b[49m\u001b[43m(\u001b[49m\u001b[38;5;28;43mstr\u001b[39;49m\u001b[43m(\u001b[49m\u001b[43mhigh\u001b[49m\u001b[38;5;241;43m-\u001b[39;49m\u001b[38;5;241;43m10\u001b[39;49m\u001b[43m)\u001b[49m\u001b[38;5;241;43m+\u001b[39;49m\u001b[38;5;124;43m'\u001b[39;49m\u001b[38;5;124;43m..\u001b[39;49m\u001b[38;5;124;43m'\u001b[39;49m\u001b[38;5;241;43m+\u001b[39;49m\u001b[38;5;28;43mstr\u001b[39;49m\u001b[43m(\u001b[49m\u001b[43mhigh\u001b[49m\u001b[38;5;241;43m-\u001b[39;49m\u001b[38;5;241;43m1\u001b[39;49m\u001b[43m)\u001b[49m\u001b[43m)\u001b[49m\n\u001b[1;32m      6\u001b[0m         high \u001b[38;5;241m-\u001b[39m\u001b[38;5;241m=\u001b[39m \u001b[38;5;241m10\u001b[39m\n",
      "Cell \u001b[0;32mIn[56], line 39\u001b[0m, in \u001b[0;36mget_projects\u001b[0;34m(stars_range)\u001b[0m\n\u001b[1;32m     37\u001b[0m     \u001b[38;5;28mprint\u001b[39m(\u001b[38;5;124mf\u001b[39m\u001b[38;5;124m\"\u001b[39m\u001b[38;5;124mRequest failed on page \u001b[39m\u001b[38;5;132;01m{\u001b[39;00mi\u001b[38;5;132;01m}\u001b[39;00m\u001b[38;5;124m: \u001b[39m\u001b[38;5;132;01m{\u001b[39;00me\u001b[38;5;132;01m}\u001b[39;00m\u001b[38;5;124m\"\u001b[39m)\n\u001b[1;32m     38\u001b[0m     delay_seconds \u001b[38;5;241m=\u001b[39m \u001b[38;5;241m60\u001b[39m  \u001b[38;5;66;03m# default delay\u001b[39;00m\n\u001b[0;32m---> 39\u001b[0m     \u001b[43mtime\u001b[49m\u001b[38;5;241;43m.\u001b[39;49m\u001b[43msleep\u001b[49m\u001b[43m(\u001b[49m\u001b[43mdelay_seconds\u001b[49m\u001b[43m)\u001b[49m\n\u001b[1;32m     40\u001b[0m     \u001b[38;5;28;01mcontinue\u001b[39;00m\n\u001b[1;32m     42\u001b[0m \u001b[38;5;28;01mexcept\u001b[39;00m json\u001b[38;5;241m.\u001b[39mdecoder\u001b[38;5;241m.\u001b[39mJSONDecodeError \u001b[38;5;28;01mas\u001b[39;00m e:\n",
      "\u001b[0;31mKeyboardInterrupt\u001b[0m: "
     ]
    }
   ],
   "source": [
    "get_more_projects(5000,8000)"
   ]
  },
  {
   "cell_type": "code",
   "execution_count": 53,
   "id": "353bec85-a26a-4ef7-9ebe-94d3ab60b901",
   "metadata": {},
   "outputs": [],
   "source": [
    "projects_df = pd.DataFrame({'Project':project_name, 'Last Update':last_update})"
   ]
  },
  {
   "cell_type": "code",
   "execution_count": 54,
   "id": "8fc3c5c1-da0d-444e-bc1b-ed9c9679bac9",
   "metadata": {},
   "outputs": [
    {
     "data": {
      "text/html": [
       "<div>\n",
       "<style scoped>\n",
       "    .dataframe tbody tr th:only-of-type {\n",
       "        vertical-align: middle;\n",
       "    }\n",
       "\n",
       "    .dataframe tbody tr th {\n",
       "        vertical-align: top;\n",
       "    }\n",
       "\n",
       "    .dataframe thead th {\n",
       "        text-align: right;\n",
       "    }\n",
       "</style>\n",
       "<table border=\"1\" class=\"dataframe\">\n",
       "  <thead>\n",
       "    <tr style=\"text-align: right;\">\n",
       "      <th></th>\n",
       "      <th>Project</th>\n",
       "      <th>Last Update</th>\n",
       "    </tr>\n",
       "  </thead>\n",
       "  <tbody>\n",
       "  </tbody>\n",
       "</table>\n",
       "</div>"
      ],
      "text/plain": [
       "Empty DataFrame\n",
       "Columns: [Project, Last Update]\n",
       "Index: []"
      ]
     },
     "execution_count": 54,
     "metadata": {},
     "output_type": "execute_result"
    }
   ],
   "source": [
    "projects_df"
   ]
  },
  {
   "cell_type": "code",
   "execution_count": 7,
   "id": "854007c4-af03-44b0-9dbf-b69d9e618d7a",
   "metadata": {},
   "outputs": [],
   "source": [
    "#projects_df.to_excel(\"projects_test.xlsx\", index=False)"
   ]
  },
  {
   "cell_type": "markdown",
   "id": "66e2aaeb-8b48-4a1a-8e2c-32fb9fff4bc6",
   "metadata": {},
   "source": [
    "try:\n",
    "    with pd.ExcelWriter(\n",
    "        \"projects_9500AndUp.xlsx\",\n",
    "        mode=\"a\",\n",
    "        engine=\"openpyxl\",\n",
    "        if_sheet_exists=\"overlay\",\n",
    "    ) as writer:\n",
    "         projects_df.to_excel(writer,sheet_name=\"Sheet1\", startrow=writer.sheets[\"Sheet1\"].max_row, index = False,header= False)\n",
    "except FileNotFoundError:\n",
    "    projects_df.to_excel(\"projects_9500AndUp.xlsx\", index=False)"
   ]
  },
  {
   "cell_type": "code",
   "execution_count": null,
   "id": "7c7d7790-650a-4390-a54b-1eadeff6f112",
   "metadata": {},
   "outputs": [],
   "source": []
  }
 ],
 "metadata": {
  "kernelspec": {
   "display_name": "Python 3 (ipykernel)",
   "language": "python",
   "name": "python3"
  },
  "language_info": {
   "codemirror_mode": {
    "name": "ipython",
    "version": 3
   },
   "file_extension": ".py",
   "mimetype": "text/x-python",
   "name": "python",
   "nbconvert_exporter": "python",
   "pygments_lexer": "ipython3",
   "version": "3.10.12"
  }
 },
 "nbformat": 4,
 "nbformat_minor": 5
}
