{
 "cells": [
  {
   "cell_type": "code",
<<<<<<< HEAD
   "execution_count": 9,
=======
   "execution_count": 527,
>>>>>>> 03ec3441ddefe799e92b8a4b09a4f3c84c27697f
   "id": "5ff164c2",
   "metadata": {},
   "outputs": [],
   "source": [
    "from selenium import webdriver\n",
    "from selenium.webdriver.chrome.options import Options\n",
    "from selenium.webdriver.support.ui import WebDriverWait\n",
    "from selenium.webdriver.support import expected_conditions as EC\n",
    "from selenium.webdriver.common.by import By\n",
    "import pandas as pd\n",
    "import time\n",
    "from bs4 import BeautifulSoup\n",
    "import threading"
   ]
  },
  {
   "cell_type": "code",
<<<<<<< HEAD
   "execution_count": 10,
=======
   "execution_count": 528,
>>>>>>> 03ec3441ddefe799e92b8a4b09a4f3c84c27697f
   "id": "03b2ea56",
   "metadata": {},
   "outputs": [],
   "source": [
    "# Declare the lists for each feature to be scraped\n",
    "repo_url = []\n",
    "repo_watches = []\n",
    "repo_sponsors = []\n",
    "repo_open_issues = []\n",
    "repo_closed_issues = []\n",
    "repo_labels = []\n",
    "repo_milestones = []\n",
    "repo_open_prs = []\n",
    "repo_closed_prs = []"
   ]
  },
  {
   "cell_type": "code",
<<<<<<< HEAD
   "execution_count": 11,
=======
   "execution_count": 529,
>>>>>>> 03ec3441ddefe799e92b8a4b09a4f3c84c27697f
   "id": "46f28d8d",
   "metadata": {},
   "outputs": [],
   "source": [
    "# Potential Scrapes:\n",
    "# ../issues => Open/closed issues, # of labels, # of milestones\n",
    "# ../pulls\n",
    "# ../actions => # of workflow runs\n",
    "# ../pulse => Active pr and Active issues\n",
    "# ../network/dependencies\n",
    "# Sponsered\n",
    "# Watches\n",
    "# \n",
    "# Ones in Bash Script:\n",
    "# Commits\n",
    "# Tags/Releases\n",
    "# Branches\n",
    "# Languages\n",
    "# Contributors\n",
    "\n",
    "# Headless mode for Chrome\n",
    "chrome_options = Options()\n",
    "chrome_options.add_argument(\"--disable-extensions\")\n",
    "chrome_options.add_argument(\"--disable-gpu\")\n",
    "chrome_options.add_argument(\"--headless=new\")\n",
    "chrome_options.add_argument(\"--no-sandbox\")\n",
    "chrome_options.add_argument(\"--disable-dev-shm-usage\")\n",
    "chrome_options.add_argument(\"--disable-renderer-backgrounding\")\n",
    "chrome_options.add_argument(\"--disable-background-timer-throttling\")\n",
    "chrome_options.add_argument(\"--disable-backgrounding-occluded-windows\")\n",
    "chrome_options.add_argument(\"--disable-client-side-phishing-detection\")\n",
    "chrome_options.add_argument(\"--disable-crash-reporter\")\n",
    "chrome_options.add_argument(\"--disable-oopr-debug-crash-dump\")\n",
    "chrome_options.add_argument(\"--no-crash-upload\")\n",
    "chrome_options.add_argument(\"--disable-gpu\")\n",
    "chrome_options.add_argument(\"--disable-extensions\")\n",
    "chrome_options.add_argument(\"--disable-low-res-tiling\")\n",
    "chrome_options.add_argument(\"--log-level=3\")\n",
    "chrome_options.add_argument(\"--silent\")\n",
    "\n",
    "def scrape_page(project_url):\n",
    "    # Add url to list\n",
    "    repo_url.append(project_url)\n",
    "    \n",
    "    # Set up Web Driver\n",
    "    driver = webdriver.Chrome(options=chrome_options)\n",
    "    driver.get(project_url)\n",
    "    html = driver.page_source\n",
    "    soup = BeautifulSoup(html,\"html.parser\")\n",
    "    \n",
    "    # Wait for the document to be in 'complete' state\n",
    "    WebDriverWait(driver, 10).until(\n",
    "        EC.presence_of_element_located((By.TAG_NAME, 'body'))\n",
    "    )\n",
    "    \n",
    "    # Get the OWNER/REPO\n",
    "    project = project_url[19:]\n",
    "    \n",
    "    # Parse HTML\n",
    "    # Get number of watches and sponsered?\n",
    "    num_watches = soup.find(href=f\"/{project}/watchers\").find(\"strong\").text\n",
    "    \n",
    "    creator = project.split('/')[0]\n",
    "    sponsored = \"Yes\" if soup.find(href=f\"/sponsors/{creator}\") != None else \"No\"\n",
    "    \n",
    "    repo_watches.append(num_watches)\n",
    "    repo_sponsors.append(sponsored)\n",
    "    \n",
    "    \n",
    "    # Issues\n",
    "    issue_url = project_url + \"/issues\"\n",
    "    driver.get(issue_url)\n",
    "    html = driver.page_source\n",
    "    soup = BeautifulSoup(html,\"html.parser\")\n",
    "    \n",
    "    open_issues = soup.find(href=f\"/{project}/issues?q=is%3Aopen+is%3Aissue\").text.split()[0]\n",
    "    closed_issues = soup.find(href=f\"/{project}/issues?q=is%3Aissue+is%3Aclosed\").text.split()[0]\n",
    "    num_labels = soup.find(href=f\"/{project}/labels\").find(\"span\").text\n",
    "    num_milestones = soup.find(href=f\"/{project}/milestones\").find(\"span\").text\n",
    "    \n",
    "    repo_open_issues.append(open_issues)\n",
    "    repo_closed_issues.append(closed_issues)\n",
    "    repo_labels.append(num_labels)\n",
    "    repo_milestones.append(num_milestones)\n",
    "    \n",
    "    \n",
    "    # Pull Requests\n",
    "    pull_url = project_url + \"/pulls\"\n",
    "    driver.get(pull_url)\n",
    "    html = driver.page_source\n",
    "    soup = BeautifulSoup(html,\"html.parser\")\n",
    "    \n",
    "    open_prs = soup.find(href=f\"/{project}/pulls?q=is%3Aopen+is%3Apr\").text.split()[0]\n",
    "    closed_prs = soup.find(href=f\"/{project}/pulls?q=is%3Apr+is%3Aclosed\").text.split()[0]\n",
    "    \n",
    "    repo_open_prs.append(open_prs)\n",
    "    repo_closed_prs.append(closed_prs)\n",
    "    \n",
    "    # Clean close the Web Session and window(s)\n",
    "    driver.quit()"
   ]
  },
  {
   "cell_type": "code",
<<<<<<< HEAD
   "execution_count": 12,
   "id": "be5ad0f6",
   "metadata": {},
   "outputs": [
    {
     "ename": "SessionNotCreatedException",
     "evalue": "Message: session not created: Chrome failed to start: exited normally.\n  (session not created: DevToolsActivePort file doesn't exist)\n  (The process started from chrome location /home/dchen117/.cache/selenium/chrome/linux64/122.0.6261.94/chrome is no longer running, so ChromeDriver is assuming that Chrome has crashed.)\nStacktrace:\n#0 0x56074d0dee93 <unknown>\n#1 0x56074cdd6ce6 <unknown>\n#2 0x56074ce0b6fa <unknown>\n#3 0x56074ce076ed <unknown>\n#4 0x56074ce5071c <unknown>\n#5 0x56074ce43c53 <unknown>\n#6 0x56074ce14db3 <unknown>\n#7 0x56074ce1577e <unknown>\n#8 0x56074d0a47cb <unknown>\n#9 0x56074d0a87e5 <unknown>\n#10 0x56074d0920e1 <unknown>\n#11 0x56074d0a9372 <unknown>\n#12 0x56074d0761bf <unknown>\n#13 0x56074d0cd488 <unknown>\n#14 0x56074d0cd683 <unknown>\n#15 0x56074d0de044 <unknown>\n#16 0x7f11c03fdac3 <unknown>\n",
     "output_type": "error",
     "traceback": [
      "\u001b[0;31m---------------------------------------------------------------------------\u001b[0m",
      "\u001b[0;31mSessionNotCreatedException\u001b[0m                Traceback (most recent call last)",
      "Cell \u001b[0;32mIn[12], line 7\u001b[0m\n\u001b[1;32m      1\u001b[0m \u001b[38;5;66;03m#df = pd.read_excel('projects.xlsx') # can also index sheet by name or fetch all sheets\u001b[39;00m\n\u001b[1;32m      2\u001b[0m \u001b[38;5;66;03m#project_list = df['Project'].tolist()\u001b[39;00m\n\u001b[1;32m      3\u001b[0m \n\u001b[1;32m      4\u001b[0m \u001b[38;5;66;03m#for project in project_list:\u001b[39;00m\n\u001b[1;32m      5\u001b[0m     \u001b[38;5;66;03m#scrape_page(project)\u001b[39;00m\n\u001b[0;32m----> 7\u001b[0m \u001b[43mscrape_page\u001b[49m\u001b[43m(\u001b[49m\u001b[38;5;124;43m\"\u001b[39;49m\u001b[38;5;124;43mhttps://github.com/twbs/bootstrap\u001b[39;49m\u001b[38;5;124;43m\"\u001b[39;49m\u001b[43m)\u001b[49m\n\u001b[1;32m      8\u001b[0m scrape_page(\u001b[38;5;124m\"\u001b[39m\u001b[38;5;124mhttps://github.com/freeCodeCamp/freeCodeCamp\u001b[39m\u001b[38;5;124m\"\u001b[39m)\n",
      "Cell \u001b[0;32mIn[11], line 22\u001b[0m, in \u001b[0;36mscrape_page\u001b[0;34m(project_url)\u001b[0m\n\u001b[1;32m     19\u001b[0m repo_url\u001b[38;5;241m.\u001b[39mappend(project_url)\n\u001b[1;32m     21\u001b[0m \u001b[38;5;66;03m# Set up Web Driver\u001b[39;00m\n\u001b[0;32m---> 22\u001b[0m driver \u001b[38;5;241m=\u001b[39m \u001b[43mwebdriver\u001b[49m\u001b[38;5;241;43m.\u001b[39;49m\u001b[43mChrome\u001b[49m\u001b[43m(\u001b[49m\u001b[43m)\u001b[49m\n\u001b[1;32m     23\u001b[0m driver\u001b[38;5;241m.\u001b[39mget(project_url)\n\u001b[1;32m     24\u001b[0m html \u001b[38;5;241m=\u001b[39m driver\u001b[38;5;241m.\u001b[39mpage_source\n",
      "File \u001b[0;32m~/.local/lib/python3.10/site-packages/selenium/webdriver/chrome/webdriver.py:45\u001b[0m, in \u001b[0;36mWebDriver.__init__\u001b[0;34m(self, options, service, keep_alive)\u001b[0m\n\u001b[1;32m     42\u001b[0m service \u001b[38;5;241m=\u001b[39m service \u001b[38;5;28;01mif\u001b[39;00m service \u001b[38;5;28;01melse\u001b[39;00m Service()\n\u001b[1;32m     43\u001b[0m options \u001b[38;5;241m=\u001b[39m options \u001b[38;5;28;01mif\u001b[39;00m options \u001b[38;5;28;01melse\u001b[39;00m Options()\n\u001b[0;32m---> 45\u001b[0m \u001b[38;5;28;43msuper\u001b[39;49m\u001b[43m(\u001b[49m\u001b[43m)\u001b[49m\u001b[38;5;241;43m.\u001b[39;49m\u001b[38;5;21;43m__init__\u001b[39;49m\u001b[43m(\u001b[49m\n\u001b[1;32m     46\u001b[0m \u001b[43m    \u001b[49m\u001b[43mbrowser_name\u001b[49m\u001b[38;5;241;43m=\u001b[39;49m\u001b[43mDesiredCapabilities\u001b[49m\u001b[38;5;241;43m.\u001b[39;49m\u001b[43mCHROME\u001b[49m\u001b[43m[\u001b[49m\u001b[38;5;124;43m\"\u001b[39;49m\u001b[38;5;124;43mbrowserName\u001b[39;49m\u001b[38;5;124;43m\"\u001b[39;49m\u001b[43m]\u001b[49m\u001b[43m,\u001b[49m\n\u001b[1;32m     47\u001b[0m \u001b[43m    \u001b[49m\u001b[43mvendor_prefix\u001b[49m\u001b[38;5;241;43m=\u001b[39;49m\u001b[38;5;124;43m\"\u001b[39;49m\u001b[38;5;124;43mgoog\u001b[39;49m\u001b[38;5;124;43m\"\u001b[39;49m\u001b[43m,\u001b[49m\n\u001b[1;32m     48\u001b[0m \u001b[43m    \u001b[49m\u001b[43moptions\u001b[49m\u001b[38;5;241;43m=\u001b[39;49m\u001b[43moptions\u001b[49m\u001b[43m,\u001b[49m\n\u001b[1;32m     49\u001b[0m \u001b[43m    \u001b[49m\u001b[43mservice\u001b[49m\u001b[38;5;241;43m=\u001b[39;49m\u001b[43mservice\u001b[49m\u001b[43m,\u001b[49m\n\u001b[1;32m     50\u001b[0m \u001b[43m    \u001b[49m\u001b[43mkeep_alive\u001b[49m\u001b[38;5;241;43m=\u001b[39;49m\u001b[43mkeep_alive\u001b[49m\u001b[43m,\u001b[49m\n\u001b[1;32m     51\u001b[0m \u001b[43m\u001b[49m\u001b[43m)\u001b[49m\n",
      "File \u001b[0;32m~/.local/lib/python3.10/site-packages/selenium/webdriver/chromium/webdriver.py:61\u001b[0m, in \u001b[0;36mChromiumDriver.__init__\u001b[0;34m(self, browser_name, vendor_prefix, options, service, keep_alive)\u001b[0m\n\u001b[1;32m     52\u001b[0m executor \u001b[38;5;241m=\u001b[39m ChromiumRemoteConnection(\n\u001b[1;32m     53\u001b[0m     remote_server_addr\u001b[38;5;241m=\u001b[39m\u001b[38;5;28mself\u001b[39m\u001b[38;5;241m.\u001b[39mservice\u001b[38;5;241m.\u001b[39mservice_url,\n\u001b[1;32m     54\u001b[0m     browser_name\u001b[38;5;241m=\u001b[39mbrowser_name,\n\u001b[0;32m   (...)\u001b[0m\n\u001b[1;32m     57\u001b[0m     ignore_proxy\u001b[38;5;241m=\u001b[39moptions\u001b[38;5;241m.\u001b[39m_ignore_local_proxy,\n\u001b[1;32m     58\u001b[0m )\n\u001b[1;32m     60\u001b[0m \u001b[38;5;28;01mtry\u001b[39;00m:\n\u001b[0;32m---> 61\u001b[0m     \u001b[38;5;28;43msuper\u001b[39;49m\u001b[43m(\u001b[49m\u001b[43m)\u001b[49m\u001b[38;5;241;43m.\u001b[39;49m\u001b[38;5;21;43m__init__\u001b[39;49m\u001b[43m(\u001b[49m\u001b[43mcommand_executor\u001b[49m\u001b[38;5;241;43m=\u001b[39;49m\u001b[43mexecutor\u001b[49m\u001b[43m,\u001b[49m\u001b[43m \u001b[49m\u001b[43moptions\u001b[49m\u001b[38;5;241;43m=\u001b[39;49m\u001b[43moptions\u001b[49m\u001b[43m)\u001b[49m\n\u001b[1;32m     62\u001b[0m \u001b[38;5;28;01mexcept\u001b[39;00m \u001b[38;5;167;01mException\u001b[39;00m:\n\u001b[1;32m     63\u001b[0m     \u001b[38;5;28mself\u001b[39m\u001b[38;5;241m.\u001b[39mquit()\n",
      "File \u001b[0;32m~/.local/lib/python3.10/site-packages/selenium/webdriver/remote/webdriver.py:208\u001b[0m, in \u001b[0;36mWebDriver.__init__\u001b[0;34m(self, command_executor, keep_alive, file_detector, options)\u001b[0m\n\u001b[1;32m    206\u001b[0m \u001b[38;5;28mself\u001b[39m\u001b[38;5;241m.\u001b[39m_authenticator_id \u001b[38;5;241m=\u001b[39m \u001b[38;5;28;01mNone\u001b[39;00m\n\u001b[1;32m    207\u001b[0m \u001b[38;5;28mself\u001b[39m\u001b[38;5;241m.\u001b[39mstart_client()\n\u001b[0;32m--> 208\u001b[0m \u001b[38;5;28;43mself\u001b[39;49m\u001b[38;5;241;43m.\u001b[39;49m\u001b[43mstart_session\u001b[49m\u001b[43m(\u001b[49m\u001b[43mcapabilities\u001b[49m\u001b[43m)\u001b[49m\n",
      "File \u001b[0;32m~/.local/lib/python3.10/site-packages/selenium/webdriver/remote/webdriver.py:292\u001b[0m, in \u001b[0;36mWebDriver.start_session\u001b[0;34m(self, capabilities)\u001b[0m\n\u001b[1;32m    285\u001b[0m \u001b[38;5;124;03m\"\"\"Creates a new session with the desired capabilities.\u001b[39;00m\n\u001b[1;32m    286\u001b[0m \n\u001b[1;32m    287\u001b[0m \u001b[38;5;124;03m:Args:\u001b[39;00m\n\u001b[1;32m    288\u001b[0m \u001b[38;5;124;03m - capabilities - a capabilities dict to start the session with.\u001b[39;00m\n\u001b[1;32m    289\u001b[0m \u001b[38;5;124;03m\"\"\"\u001b[39;00m\n\u001b[1;32m    291\u001b[0m caps \u001b[38;5;241m=\u001b[39m _create_caps(capabilities)\n\u001b[0;32m--> 292\u001b[0m response \u001b[38;5;241m=\u001b[39m \u001b[38;5;28;43mself\u001b[39;49m\u001b[38;5;241;43m.\u001b[39;49m\u001b[43mexecute\u001b[49m\u001b[43m(\u001b[49m\u001b[43mCommand\u001b[49m\u001b[38;5;241;43m.\u001b[39;49m\u001b[43mNEW_SESSION\u001b[49m\u001b[43m,\u001b[49m\u001b[43m \u001b[49m\u001b[43mcaps\u001b[49m\u001b[43m)\u001b[49m[\u001b[38;5;124m\"\u001b[39m\u001b[38;5;124mvalue\u001b[39m\u001b[38;5;124m\"\u001b[39m]\n\u001b[1;32m    293\u001b[0m \u001b[38;5;28mself\u001b[39m\u001b[38;5;241m.\u001b[39msession_id \u001b[38;5;241m=\u001b[39m response\u001b[38;5;241m.\u001b[39mget(\u001b[38;5;124m\"\u001b[39m\u001b[38;5;124msessionId\u001b[39m\u001b[38;5;124m\"\u001b[39m)\n\u001b[1;32m    294\u001b[0m \u001b[38;5;28mself\u001b[39m\u001b[38;5;241m.\u001b[39mcaps \u001b[38;5;241m=\u001b[39m response\u001b[38;5;241m.\u001b[39mget(\u001b[38;5;124m\"\u001b[39m\u001b[38;5;124mcapabilities\u001b[39m\u001b[38;5;124m\"\u001b[39m)\n",
      "File \u001b[0;32m~/.local/lib/python3.10/site-packages/selenium/webdriver/remote/webdriver.py:347\u001b[0m, in \u001b[0;36mWebDriver.execute\u001b[0;34m(self, driver_command, params)\u001b[0m\n\u001b[1;32m    345\u001b[0m response \u001b[38;5;241m=\u001b[39m \u001b[38;5;28mself\u001b[39m\u001b[38;5;241m.\u001b[39mcommand_executor\u001b[38;5;241m.\u001b[39mexecute(driver_command, params)\n\u001b[1;32m    346\u001b[0m \u001b[38;5;28;01mif\u001b[39;00m response:\n\u001b[0;32m--> 347\u001b[0m     \u001b[38;5;28;43mself\u001b[39;49m\u001b[38;5;241;43m.\u001b[39;49m\u001b[43merror_handler\u001b[49m\u001b[38;5;241;43m.\u001b[39;49m\u001b[43mcheck_response\u001b[49m\u001b[43m(\u001b[49m\u001b[43mresponse\u001b[49m\u001b[43m)\u001b[49m\n\u001b[1;32m    348\u001b[0m     response[\u001b[38;5;124m\"\u001b[39m\u001b[38;5;124mvalue\u001b[39m\u001b[38;5;124m\"\u001b[39m] \u001b[38;5;241m=\u001b[39m \u001b[38;5;28mself\u001b[39m\u001b[38;5;241m.\u001b[39m_unwrap_value(response\u001b[38;5;241m.\u001b[39mget(\u001b[38;5;124m\"\u001b[39m\u001b[38;5;124mvalue\u001b[39m\u001b[38;5;124m\"\u001b[39m, \u001b[38;5;28;01mNone\u001b[39;00m))\n\u001b[1;32m    349\u001b[0m     \u001b[38;5;28;01mreturn\u001b[39;00m response\n",
      "File \u001b[0;32m~/.local/lib/python3.10/site-packages/selenium/webdriver/remote/errorhandler.py:229\u001b[0m, in \u001b[0;36mErrorHandler.check_response\u001b[0;34m(self, response)\u001b[0m\n\u001b[1;32m    227\u001b[0m         alert_text \u001b[38;5;241m=\u001b[39m value[\u001b[38;5;124m\"\u001b[39m\u001b[38;5;124malert\u001b[39m\u001b[38;5;124m\"\u001b[39m]\u001b[38;5;241m.\u001b[39mget(\u001b[38;5;124m\"\u001b[39m\u001b[38;5;124mtext\u001b[39m\u001b[38;5;124m\"\u001b[39m)\n\u001b[1;32m    228\u001b[0m     \u001b[38;5;28;01mraise\u001b[39;00m exception_class(message, screen, stacktrace, alert_text)  \u001b[38;5;66;03m# type: ignore[call-arg]  # mypy is not smart enough here\u001b[39;00m\n\u001b[0;32m--> 229\u001b[0m \u001b[38;5;28;01mraise\u001b[39;00m exception_class(message, screen, stacktrace)\n",
      "\u001b[0;31mSessionNotCreatedException\u001b[0m: Message: session not created: Chrome failed to start: exited normally.\n  (session not created: DevToolsActivePort file doesn't exist)\n  (The process started from chrome location /home/dchen117/.cache/selenium/chrome/linux64/122.0.6261.94/chrome is no longer running, so ChromeDriver is assuming that Chrome has crashed.)\nStacktrace:\n#0 0x56074d0dee93 <unknown>\n#1 0x56074cdd6ce6 <unknown>\n#2 0x56074ce0b6fa <unknown>\n#3 0x56074ce076ed <unknown>\n#4 0x56074ce5071c <unknown>\n#5 0x56074ce43c53 <unknown>\n#6 0x56074ce14db3 <unknown>\n#7 0x56074ce1577e <unknown>\n#8 0x56074d0a47cb <unknown>\n#9 0x56074d0a87e5 <unknown>\n#10 0x56074d0920e1 <unknown>\n#11 0x56074d0a9372 <unknown>\n#12 0x56074d0761bf <unknown>\n#13 0x56074d0cd488 <unknown>\n#14 0x56074d0cd683 <unknown>\n#15 0x56074d0de044 <unknown>\n#16 0x7f11c03fdac3 <unknown>\n"
     ]
    }
   ],
=======
   "execution_count": 530,
   "id": "be5ad0f6",
   "metadata": {},
   "outputs": [],
>>>>>>> 03ec3441ddefe799e92b8a4b09a4f3c84c27697f
   "source": [
    "#df = pd.read_excel('projects.xlsx') # can also index sheet by name or fetch all sheets\n",
    "#project_list = df['Project'].tolist()\n",
    "\n",
    "project_list = [\"https://github.com/twbs/bootstrap\", \"https://github.com/freeCodeCamp/freeCodeCamp\"]\n",
    "for project in project_list:\n",
    "    thread = threading.Thread(name=project,target=scrape_page(project))\n",
    "    thread.start()"
   ]
  },
  {
   "cell_type": "code",
   "execution_count": 531,
   "id": "43a81479",
   "metadata": {},
   "outputs": [],
   "source": [
    "projects_df = pd.DataFrame({'Project URL':repo_url, \n",
    "                            'Number of Watches':repo_watches,\n",
    "                            'Sponsored':repo_sponsors,\n",
    "                            'Open Issues':repo_open_issues,\n",
    "                            'Closed Issues':repo_closed_issues,\n",
    "                            'Number of Labels':repo_labels,\n",
    "                            'Number of Milestones':repo_milestones,\n",
    "                            'Open Pull Requests':repo_open_prs,\n",
    "                            'Closed Pull Requests':repo_closed_prs})"
   ]
  },
  {
   "cell_type": "code",
   "execution_count": 532,
   "id": "8cdbe4db",
   "metadata": {},
   "outputs": [
    {
     "data": {
      "text/html": [
       "<div>\n",
       "<style scoped>\n",
       "    .dataframe tbody tr th:only-of-type {\n",
       "        vertical-align: middle;\n",
       "    }\n",
       "\n",
       "    .dataframe tbody tr th {\n",
       "        vertical-align: top;\n",
       "    }\n",
       "\n",
       "    .dataframe thead th {\n",
       "        text-align: right;\n",
       "    }\n",
       "</style>\n",
       "<table border=\"1\" class=\"dataframe\">\n",
       "  <thead>\n",
       "    <tr style=\"text-align: right;\">\n",
       "      <th></th>\n",
       "      <th>Project URL</th>\n",
       "      <th>Number of Watches</th>\n",
       "      <th>Sponsored</th>\n",
       "      <th>Open Issues</th>\n",
       "      <th>Closed Issues</th>\n",
       "      <th>Number of Labels</th>\n",
       "      <th>Number of Milestones</th>\n",
       "      <th>Open Pull Requests</th>\n",
       "      <th>Closed Pull Requests</th>\n",
       "    </tr>\n",
       "  </thead>\n",
       "  <tbody>\n",
       "    <tr>\n",
       "      <th>0</th>\n",
       "      <td>https://github.com/twbs/bootstrap</td>\n",
       "      <td>6.8k</td>\n",
       "      <td>Yes</td>\n",
       "      <td>395</td>\n",
       "      <td>21,899</td>\n",
       "      <td>60</td>\n",
       "      <td>0</td>\n",
       "      <td>135</td>\n",
       "      <td>14,898</td>\n",
       "    </tr>\n",
       "    <tr>\n",
       "      <th>1</th>\n",
       "      <td>https://github.com/freeCodeCamp/freeCodeCamp</td>\n",
       "      <td>8.5k</td>\n",
       "      <td>Yes</td>\n",
       "      <td>267</td>\n",
       "      <td>17,403</td>\n",
       "      <td>44</td>\n",
       "      <td>4</td>\n",
       "      <td>46</td>\n",
       "      <td>35,497</td>\n",
       "    </tr>\n",
       "  </tbody>\n",
       "</table>\n",
       "</div>"
      ],
      "text/plain": [
       "                                    Project URL Number of Watches Sponsored  \\\n",
       "0             https://github.com/twbs/bootstrap              6.8k       Yes   \n",
       "1  https://github.com/freeCodeCamp/freeCodeCamp              8.5k       Yes   \n",
       "\n",
       "  Open Issues Closed Issues Number of Labels Number of Milestones  \\\n",
       "0         395        21,899               60                    0   \n",
       "1         267        17,403               44                    4   \n",
       "\n",
       "  Open Pull Requests Closed Pull Requests  \n",
       "0                135               14,898  \n",
       "1                 46               35,497  "
      ]
     },
     "execution_count": 532,
     "metadata": {},
     "output_type": "execute_result"
    }
   ],
   "source": [
    "projects_df"
   ]
  },
  {
   "cell_type": "code",
   "execution_count": null,
   "id": "664715f8",
   "metadata": {},
   "outputs": [],
   "source": []
  },
  {
   "cell_type": "markdown",
   "id": "0b3cfd35",
   "metadata": {},
   "source": [
    "try:\n",
    "    with pd.ExcelWriter(\n",
    "        \"project_HTMLfeatures.xlsx\",\n",
    "        mode=\"a\",\n",
    "        engine=\"openpyxl\",\n",
    "        if_sheet_exists=\"overlay\",\n",
    "    ) as writer:\n",
    "         projects_df.to_excel(writer,sheet_name=\"Sheet1\", startrow=writer.sheets[\"Sheet1\"].max_row, index = False,header= False)\n",
    "except FileNotFoundError:\n",
    "    projects_df.to_excel(\"project_HTMLfeatures.xlsx\", index=False)"
   ]
  }
 ],
 "metadata": {
  "kernelspec": {
   "display_name": "Python 3 (ipykernel)",
   "language": "python",
   "name": "python3"
  },
  "language_info": {
   "codemirror_mode": {
    "name": "ipython",
    "version": 3
   },
   "file_extension": ".py",
   "mimetype": "text/x-python",
   "name": "python",
   "nbconvert_exporter": "python",
   "pygments_lexer": "ipython3",
   "version": "3.10.12"
  }
 },
 "nbformat": 4,
 "nbformat_minor": 5
}
