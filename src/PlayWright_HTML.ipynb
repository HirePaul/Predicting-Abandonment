{
 "cells": [
  {
   "cell_type": "code",
   "execution_count": 1,
   "id": "1c9706db-eaa3-4b26-8efb-219463adf744",
   "metadata": {
    "scrolled": true
   },
   "outputs": [],
   "source": [
    "import pandas as pd\n",
    "import time\n",
    "from bs4 import BeautifulSoup\n",
    "import asyncio\n",
    "from playwright.async_api import async_playwright, Playwright"
   ]
  },
  {
   "cell_type": "code",
   "execution_count": 2,
   "id": "2bb9079c-7aac-4404-9790-0be640ad70f3",
   "metadata": {},
   "outputs": [],
   "source": [
    "# Declare the lists for each feature to be scraped\n",
    "repo_url = []\n",
    "repo_watches = []\n",
    "repo_sponsors = []\n",
    "repo_open_issues = []\n",
    "repo_closed_issues = []\n",
    "repo_labels = []\n",
    "repo_milestones = []\n",
    "repo_open_prs = []\n",
    "repo_closed_prs = []"
   ]
  },
  {
   "cell_type": "code",
   "execution_count": 3,
   "id": "be87108e-b026-43a2-b40d-3aaef4e65c39",
   "metadata": {},
   "outputs": [],
   "source": [
    "async def run(playwright, project_urls):\n",
    "    chromium = playwright.chromium  # Use Chromium browser\n",
    "    browser = await chromium.launch(headless=True)\n",
    "    context = await browser.new_context()\n",
    "\n",
    "    for url in project_urls:\n",
    "        page = await context.new_page()\n",
    "        await page.goto(url)\n",
    "        html = await page.content()\n",
    "        print(f\"Parsing {url}\")\n",
    "        soup = BeautifulSoup(html,\"html.parser\")\n",
    "        \n",
    "        # Get the OWNER/REPO\n",
    "        project = url[19:]\n",
    "        repo_url.append(url)\n",
    "        \n",
    "        # Parse HTML\n",
    "        # Get number of watches and sponsered?\n",
    "        num_watches = soup.find(href=f\"/{project}/watchers\").find(\"strong\").text\n",
    "        \n",
    "        creator = project.split('/')[0]\n",
    "        sponsored = \"Yes\" if soup.find(href=f\"/sponsors/{creator}\") != None else \"No\"\n",
    "        \n",
    "        repo_watches.append(num_watches)\n",
    "        repo_sponsors.append(sponsored)\n",
    "        \n",
    "        \n",
    "        # Issues\n",
    "        issue_url = url + \"/issues\"\n",
    "        await page.goto(issue_url)\n",
    "        html = await page.content()\n",
    "        soup = BeautifulSoup(html,\"html.parser\")\n",
    "        \n",
    "        open_issues = soup.find(href=f\"/{project}/issues?q=is%3Aopen+is%3Aissue\").text.split()[0]\n",
    "        closed_issues = soup.find(href=f\"/{project}/issues?q=is%3Aissue+is%3Aclosed\").text.split()[0]\n",
    "        num_labels = soup.find(href=f\"/{project}/labels\").find(\"span\").text\n",
    "        num_milestones = soup.find(href=f\"/{project}/milestones\").find(\"span\").text\n",
    "        \n",
    "        repo_open_issues.append(open_issues)\n",
    "        repo_closed_issues.append(closed_issues)\n",
    "        repo_labels.append(num_labels)\n",
    "        repo_milestones.append(num_milestones)\n",
    "        \n",
    "        \n",
    "        # Pull Requests\n",
    "        pull_url = url + \"/pulls\"\n",
    "        await page.goto(pull_url)\n",
    "        html = await page.content()\n",
    "        soup = BeautifulSoup(html,\"html.parser\")\n",
    "        \n",
    "        open_prs = soup.find(href=f\"/{project}/pulls?q=is%3Aopen+is%3Apr\").text.split()[0]\n",
    "        closed_prs = soup.find(href=f\"/{project}/pulls?q=is%3Apr+is%3Aclosed\").text.split()[0]\n",
    "        \n",
    "        repo_open_prs.append(open_prs)\n",
    "        repo_closed_prs.append(closed_prs)\n",
    "\n",
    "        # Close current page instance\n",
    "        await page.close()\n",
    "\n",
    "    await browser.close()"
   ]
  },
  {
   "cell_type": "code",
   "execution_count": 4,
   "id": "b98ab84d-6d5e-425f-9a34-50dc36d5bb17",
   "metadata": {},
   "outputs": [],
   "source": [
    "async def main():\n",
    "    project_list = [\"https://github.com/twbs/bootstrap\", \"https://github.com/freeCodeCamp/freeCodeCamp\", \"https://github.com/geekyutao/Inpaint-Anything\", \"https://github.com/spring-attic/spring-mvc-showcase\", \"https://github.com/raspberrypi/firmware\", \"https://github.com/negomi/react-burger-menu\", \"https://github.com/yyhsong/iDataV\", \"https://github.com/yipianfengye/android-zxingLibrary\", \"https://github.com/nikic/FastRoute\", \"https://github.com/vercel/platforms\", \"https://github.com/thinkingjimmy/Learning-Prompt\"]\n",
    "\n",
    "    async with async_playwright() as playwright:\n",
    "        await run(playwright, project_list)"
   ]
  },
  {
   "cell_type": "code",
   "execution_count": 5,
   "id": "4d210686-a085-43d6-b8e1-1bf498111772",
   "metadata": {},
   "outputs": [
    {
     "name": "stdout",
     "output_type": "stream",
     "text": [
      "Parsing https://github.com/twbs/bootstrap\n",
      "Parsing https://github.com/freeCodeCamp/freeCodeCamp\n"
     ]
    }
   ],
   "source": [
    "await main()"
   ]
  },
  {
   "cell_type": "code",
   "execution_count": 6,
   "id": "f1ca8866-4d6a-4e4a-872b-c13861aa0f32",
   "metadata": {},
   "outputs": [],
   "source": [
    "projects_df = pd.DataFrame({'Project URL':repo_url, \n",
    "                            'Number of Watches':repo_watches,\n",
    "                            'Sponsored':repo_sponsors,\n",
    "                            'Open Issues':repo_open_issues,\n",
    "                            'Closed Issues':repo_closed_issues,\n",
    "                            'Number of Labels':repo_labels,\n",
    "                            'Number of Milestones':repo_milestones,\n",
    "                            'Open Pull Requests':repo_open_prs,\n",
    "                            'Closed Pull Requests':repo_closed_prs})"
   ]
  },
  {
   "cell_type": "code",
   "execution_count": 7,
   "id": "970033f0-8163-4094-a020-d1fd7daa12d4",
   "metadata": {},
   "outputs": [
    {
     "data": {
      "text/html": [
       "<div>\n",
       "<style scoped>\n",
       "    .dataframe tbody tr th:only-of-type {\n",
       "        vertical-align: middle;\n",
       "    }\n",
       "\n",
       "    .dataframe tbody tr th {\n",
       "        vertical-align: top;\n",
       "    }\n",
       "\n",
       "    .dataframe thead th {\n",
       "        text-align: right;\n",
       "    }\n",
       "</style>\n",
       "<table border=\"1\" class=\"dataframe\">\n",
       "  <thead>\n",
       "    <tr style=\"text-align: right;\">\n",
       "      <th></th>\n",
       "      <th>Project URL</th>\n",
       "      <th>Number of Watches</th>\n",
       "      <th>Sponsored</th>\n",
       "      <th>Open Issues</th>\n",
       "      <th>Closed Issues</th>\n",
       "      <th>Number of Labels</th>\n",
       "      <th>Number of Milestones</th>\n",
       "      <th>Open Pull Requests</th>\n",
       "      <th>Closed Pull Requests</th>\n",
       "    </tr>\n",
       "  </thead>\n",
       "  <tbody>\n",
       "    <tr>\n",
       "      <th>0</th>\n",
       "      <td>https://github.com/twbs/bootstrap</td>\n",
       "      <td>6.8k</td>\n",
       "      <td>Yes</td>\n",
       "      <td>394</td>\n",
       "      <td>21,901</td>\n",
       "      <td>60</td>\n",
       "      <td>0</td>\n",
       "      <td>138</td>\n",
       "      <td>14,899</td>\n",
       "    </tr>\n",
       "    <tr>\n",
       "      <th>1</th>\n",
       "      <td>https://github.com/freeCodeCamp/freeCodeCamp</td>\n",
       "      <td>8.5k</td>\n",
       "      <td>Yes</td>\n",
       "      <td>270</td>\n",
       "      <td>17,414</td>\n",
       "      <td>44</td>\n",
       "      <td>4</td>\n",
       "      <td>54</td>\n",
       "      <td>35,527</td>\n",
       "    </tr>\n",
       "  </tbody>\n",
       "</table>\n",
       "</div>"
      ],
      "text/plain": [
       "                                    Project URL Number of Watches Sponsored  \\\n",
       "0             https://github.com/twbs/bootstrap              6.8k       Yes   \n",
       "1  https://github.com/freeCodeCamp/freeCodeCamp              8.5k       Yes   \n",
       "\n",
       "  Open Issues Closed Issues Number of Labels Number of Milestones  \\\n",
       "0         394        21,901               60                    0   \n",
       "1         270        17,414               44                    4   \n",
       "\n",
       "  Open Pull Requests Closed Pull Requests  \n",
       "0                138               14,899  \n",
       "1                 54               35,527  "
      ]
     },
     "execution_count": 7,
     "metadata": {},
     "output_type": "execute_result"
    }
   ],
   "source": [
    "projects_df"
   ]
  }
 ],
 "metadata": {
  "kernelspec": {
   "display_name": "Python 3 (ipykernel)",
   "language": "python",
   "name": "python3"
  },
  "language_info": {
   "codemirror_mode": {
    "name": "ipython",
    "version": 3
   },
   "file_extension": ".py",
   "mimetype": "text/x-python",
   "name": "python",
   "nbconvert_exporter": "python",
   "pygments_lexer": "ipython3",
   "version": "3.11.5"
  }
 },
 "nbformat": 4,
 "nbformat_minor": 5
}
