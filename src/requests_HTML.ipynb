{
 "cells": [
  {
   "cell_type": "code",
   "execution_count": 1,
   "id": "1fd8c31b-7da2-4c8f-9ac9-d78662dee34f",
   "metadata": {},
   "outputs": [],
   "source": [
    "import requests\n",
    "from bs4 import BeautifulSoup\n",
    "import pandas as pd"
   ]
  },
  {
   "cell_type": "code",
   "execution_count": 24,
   "id": "daab28f9-f0e5-41a6-b922-5f89b57455a2",
   "metadata": {},
   "outputs": [],
   "source": [
    "# Declare the lists for each feature to be scraped\n",
    "repo_url = []\n",
    "repo_watches = []\n",
    "repo_sponsors = []\n",
    "repo_open_issues = []\n",
    "repo_closed_issues = []\n",
    "repo_labels = []\n",
    "repo_milestones = []\n",
    "repo_open_prs = []\n",
    "repo_closed_prs = []"
   ]
  },
  {
   "cell_type": "code",
   "execution_count": 25,
   "id": "57e29ad4-a990-4187-b664-89d0de4137dd",
   "metadata": {},
   "outputs": [],
   "source": [
    "def scrape_page(project_url):\n",
    "    # Add url to list\n",
    "    repo_url.append(project_url)\n",
    "\n",
    "    r = requests.get(project_url)\n",
    "\n",
    "    # Check if the request was successful (status code 200)\n",
    "    if r.status_code == 200:\n",
    "        print(f\"Parsing {project_url}\")\n",
    "        # Parse the HTML content using BeautifulSoup\n",
    "        soup = BeautifulSoup(r.text, 'html.parser')\n",
    "\n",
    "        #print(soup.prettify())\n",
    "        \n",
    "        # Get the OWNER/REPO\n",
    "        project = project_url[19:]\n",
    "        \n",
    "        # Parse HTML\n",
    "        # Get number of watches and sponsered?\n",
    "        num_watches = soup.find(href=f\"/{project}/watchers\").find(\"strong\").text\n",
    "        \n",
    "        creator = project.split('/')[0]\n",
    "        sponsored = \"Yes\" if soup.find(href=f\"/sponsors/{creator}\") != None else \"No\"\n",
    "        \n",
    "        repo_watches.append(num_watches)\n",
    "        repo_sponsors.append(sponsored)\n",
    "        \n",
    "        \n",
    "        # Issues\n",
    "        issue_url = project_url + \"/issues\"\n",
    "        r = requests.get(issue_url)\n",
    "        soup = BeautifulSoup(r.text,\"html.parser\")\n",
    "        \n",
    "        open_issues = soup.find(href=f\"/{project}/issues?q=is%3Aopen+is%3Aissue\").text.split()[0]\n",
    "        closed_issues = soup.find(href=f\"/{project}/issues?q=is%3Aissue+is%3Aclosed\").text.split()[0]\n",
    "        num_labels = soup.find(href=f\"/{project}/labels\").find(\"span\").text\n",
    "        num_milestones = soup.find(href=f\"/{project}/milestones\").find(\"span\").text\n",
    "        \n",
    "        repo_open_issues.append(open_issues)\n",
    "        repo_closed_issues.append(closed_issues)\n",
    "        repo_labels.append(num_labels)\n",
    "        repo_milestones.append(num_milestones)\n",
    "        \n",
    "        \n",
    "        # Pull Requests\n",
    "        pull_url = project_url + \"/pulls\"\n",
    "        r = requests.get(pull_url)\n",
    "        soup = BeautifulSoup(r.text,\"html.parser\")\n",
    "        \n",
    "        open_prs = soup.find(href=f\"/{project}/pulls?q=is%3Aopen+is%3Apr\").text.split()[0]\n",
    "        closed_prs = soup.find(href=f\"/{project}/pulls?q=is%3Apr+is%3Aclosed\").text.split()[0]\n",
    "        \n",
    "        repo_open_prs.append(open_prs)\n",
    "        repo_closed_prs.append(closed_prs)\n",
    "        \n",
    "    else:\n",
    "        print(f\"Failed to retrieve data. Status code: {r.status}\")\n",
    "    "
   ]
  },
  {
   "cell_type": "code",
   "execution_count": 26,
   "id": "4f640d78-5b97-4e74-a8ba-55f4b75e0c21",
   "metadata": {},
   "outputs": [
    {
     "name": "stdout",
     "output_type": "stream",
     "text": [
      "Parsing https://github.com/twbs/bootstrap\n"
     ]
    },
    {
     "ename": "AttributeError",
     "evalue": "'NoneType' object has no attribute 'text'",
     "output_type": "error",
     "traceback": [
      "\u001b[0;31m---------------------------------------------------------------------------\u001b[0m",
      "\u001b[0;31mAttributeError\u001b[0m                            Traceback (most recent call last)",
      "Cell \u001b[0;32mIn[26], line 3\u001b[0m\n\u001b[1;32m      1\u001b[0m project_list \u001b[38;5;241m=\u001b[39m [\u001b[38;5;124m\"\u001b[39m\u001b[38;5;124mhttps://github.com/twbs/bootstrap\u001b[39m\u001b[38;5;124m\"\u001b[39m, \u001b[38;5;124m\"\u001b[39m\u001b[38;5;124mhttps://github.com/freeCodeCamp/freeCodeCamp\u001b[39m\u001b[38;5;124m\"\u001b[39m, \u001b[38;5;124m\"\u001b[39m\u001b[38;5;124mhttps://github.com/geekyutao/Inpaint-Anything\u001b[39m\u001b[38;5;124m\"\u001b[39m, \u001b[38;5;124m\"\u001b[39m\u001b[38;5;124mhttps://github.com/spring-attic/spring-mvc-showcase\u001b[39m\u001b[38;5;124m\"\u001b[39m, \u001b[38;5;124m\"\u001b[39m\u001b[38;5;124mhttps://github.com/raspberrypi/firmware\u001b[39m\u001b[38;5;124m\"\u001b[39m, \u001b[38;5;124m\"\u001b[39m\u001b[38;5;124mhttps://github.com/negomi/react-burger-menu\u001b[39m\u001b[38;5;124m\"\u001b[39m, \u001b[38;5;124m\"\u001b[39m\u001b[38;5;124mhttps://github.com/yyhsong/iDataV\u001b[39m\u001b[38;5;124m\"\u001b[39m, \u001b[38;5;124m\"\u001b[39m\u001b[38;5;124mhttps://github.com/yipianfengye/android-zxingLibrary\u001b[39m\u001b[38;5;124m\"\u001b[39m, \u001b[38;5;124m\"\u001b[39m\u001b[38;5;124mhttps://github.com/nikic/FastRoute\u001b[39m\u001b[38;5;124m\"\u001b[39m, \u001b[38;5;124m\"\u001b[39m\u001b[38;5;124mhttps://github.com/vercel/platforms\u001b[39m\u001b[38;5;124m\"\u001b[39m, \u001b[38;5;124m\"\u001b[39m\u001b[38;5;124mhttps://github.com/thinkingjimmy/Learning-Prompt\u001b[39m\u001b[38;5;124m\"\u001b[39m]\n\u001b[1;32m      2\u001b[0m \u001b[38;5;28;01mfor\u001b[39;00m project \u001b[38;5;129;01min\u001b[39;00m project_list:\n\u001b[0;32m----> 3\u001b[0m     scrape_page(project)\n",
      "Cell \u001b[0;32mIn[25], line 34\u001b[0m, in \u001b[0;36mscrape_page\u001b[0;34m(project_url)\u001b[0m\n\u001b[1;32m     31\u001b[0m r \u001b[38;5;241m=\u001b[39m requests\u001b[38;5;241m.\u001b[39mget(issue_url)\n\u001b[1;32m     32\u001b[0m soup \u001b[38;5;241m=\u001b[39m BeautifulSoup(r\u001b[38;5;241m.\u001b[39mtext,\u001b[38;5;124m\"\u001b[39m\u001b[38;5;124mhtml.parser\u001b[39m\u001b[38;5;124m\"\u001b[39m)\n\u001b[0;32m---> 34\u001b[0m open_issues \u001b[38;5;241m=\u001b[39m soup\u001b[38;5;241m.\u001b[39mfind(href\u001b[38;5;241m=\u001b[39m\u001b[38;5;124mf\u001b[39m\u001b[38;5;124m\"\u001b[39m\u001b[38;5;124m/\u001b[39m\u001b[38;5;132;01m{\u001b[39;00mproject\u001b[38;5;132;01m}\u001b[39;00m\u001b[38;5;124m/issues?q=is%3Aopen+is%3Aissue\u001b[39m\u001b[38;5;124m\"\u001b[39m)\u001b[38;5;241m.\u001b[39mtext\u001b[38;5;241m.\u001b[39msplit()[\u001b[38;5;241m0\u001b[39m]\n\u001b[1;32m     35\u001b[0m closed_issues \u001b[38;5;241m=\u001b[39m soup\u001b[38;5;241m.\u001b[39mfind(href\u001b[38;5;241m=\u001b[39m\u001b[38;5;124mf\u001b[39m\u001b[38;5;124m\"\u001b[39m\u001b[38;5;124m/\u001b[39m\u001b[38;5;132;01m{\u001b[39;00mproject\u001b[38;5;132;01m}\u001b[39;00m\u001b[38;5;124m/issues?q=is%3Aissue+is%3Aclosed\u001b[39m\u001b[38;5;124m\"\u001b[39m)\u001b[38;5;241m.\u001b[39mtext\u001b[38;5;241m.\u001b[39msplit()[\u001b[38;5;241m0\u001b[39m]\n\u001b[1;32m     36\u001b[0m num_labels \u001b[38;5;241m=\u001b[39m soup\u001b[38;5;241m.\u001b[39mfind(href\u001b[38;5;241m=\u001b[39m\u001b[38;5;124mf\u001b[39m\u001b[38;5;124m\"\u001b[39m\u001b[38;5;124m/\u001b[39m\u001b[38;5;132;01m{\u001b[39;00mproject\u001b[38;5;132;01m}\u001b[39;00m\u001b[38;5;124m/labels\u001b[39m\u001b[38;5;124m\"\u001b[39m)\u001b[38;5;241m.\u001b[39mfind(\u001b[38;5;124m\"\u001b[39m\u001b[38;5;124mspan\u001b[39m\u001b[38;5;124m\"\u001b[39m)\u001b[38;5;241m.\u001b[39mtext\n",
      "\u001b[0;31mAttributeError\u001b[0m: 'NoneType' object has no attribute 'text'"
     ]
    }
   ],
   "source": [
    "project_list = [\"https://github.com/twbs/bootstrap\", \"https://github.com/freeCodeCamp/freeCodeCamp\", \"https://github.com/geekyutao/Inpaint-Anything\", \"https://github.com/spring-attic/spring-mvc-showcase\", \"https://github.com/raspberrypi/firmware\", \"https://github.com/negomi/react-burger-menu\", \"https://github.com/yyhsong/iDataV\", \"https://github.com/yipianfengye/android-zxingLibrary\", \"https://github.com/nikic/FastRoute\", \"https://github.com/vercel/platforms\", \"https://github.com/thinkingjimmy/Learning-Prompt\"]\n",
    "for project in project_list:\n",
    "    scrape_page(project)"
   ]
  },
  {
   "cell_type": "code",
   "execution_count": 10,
   "id": "25064898-e4df-4754-ac8f-c6fbffe9f716",
   "metadata": {},
   "outputs": [],
   "source": [
    "projects_df = pd.DataFrame({'Project URL':repo_url, \n",
    "                            'Number of Watches':repo_watches,\n",
    "                            'Sponsored':repo_sponsors,\n",
    "                            'Open Issues':repo_open_issues,\n",
    "                            'Closed Issues':repo_closed_issues,\n",
    "                            'Number of Labels':repo_labels,\n",
    "                            'Number of Milestones':repo_milestones,\n",
    "                            'Open Pull Requests':repo_open_prs,\n",
    "                            'Closed Pull Requests':repo_closed_prs})"
   ]
  },
  {
   "cell_type": "code",
   "execution_count": 11,
   "id": "f52f4482-1cae-410c-ad05-c5c4b7bd1e08",
   "metadata": {},
   "outputs": [
    {
     "data": {
      "text/html": [
       "<div>\n",
       "<style scoped>\n",
       "    .dataframe tbody tr th:only-of-type {\n",
       "        vertical-align: middle;\n",
       "    }\n",
       "\n",
       "    .dataframe tbody tr th {\n",
       "        vertical-align: top;\n",
       "    }\n",
       "\n",
       "    .dataframe thead th {\n",
       "        text-align: right;\n",
       "    }\n",
       "</style>\n",
       "<table border=\"1\" class=\"dataframe\">\n",
       "  <thead>\n",
       "    <tr style=\"text-align: right;\">\n",
       "      <th></th>\n",
       "      <th>Project URL</th>\n",
       "      <th>Number of Watches</th>\n",
       "      <th>Sponsored</th>\n",
       "      <th>Open Issues</th>\n",
       "      <th>Closed Issues</th>\n",
       "      <th>Number of Labels</th>\n",
       "      <th>Number of Milestones</th>\n",
       "      <th>Open Pull Requests</th>\n",
       "      <th>Closed Pull Requests</th>\n",
       "    </tr>\n",
       "  </thead>\n",
       "  <tbody>\n",
       "    <tr>\n",
       "      <th>0</th>\n",
       "      <td>https://github.com/twbs/bootstrap</td>\n",
       "      <td>6.8k</td>\n",
       "      <td>No</td>\n",
       "      <td>394</td>\n",
       "      <td>21,901</td>\n",
       "      <td>60</td>\n",
       "      <td>0</td>\n",
       "      <td>138</td>\n",
       "      <td>14,899</td>\n",
       "    </tr>\n",
       "    <tr>\n",
       "      <th>1</th>\n",
       "      <td>https://github.com/freeCodeCamp/freeCodeCamp</td>\n",
       "      <td>8.5k</td>\n",
       "      <td>No</td>\n",
       "      <td>270</td>\n",
       "      <td>17,414</td>\n",
       "      <td>44</td>\n",
       "      <td>4</td>\n",
       "      <td>54</td>\n",
       "      <td>35,527</td>\n",
       "    </tr>\n",
       "  </tbody>\n",
       "</table>\n",
       "</div>"
      ],
      "text/plain": [
       "                                    Project URL Number of Watches Sponsored  \\\n",
       "0             https://github.com/twbs/bootstrap              6.8k        No   \n",
       "1  https://github.com/freeCodeCamp/freeCodeCamp              8.5k        No   \n",
       "\n",
       "  Open Issues Closed Issues Number of Labels Number of Milestones  \\\n",
       "0         394        21,901               60                    0   \n",
       "1         270        17,414               44                    4   \n",
       "\n",
       "  Open Pull Requests Closed Pull Requests  \n",
       "0                138               14,899  \n",
       "1                 54               35,527  "
      ]
     },
     "execution_count": 11,
     "metadata": {},
     "output_type": "execute_result"
    }
   ],
   "source": [
    "projects_df"
   ]
  },
  {
   "cell_type": "code",
   "execution_count": null,
   "id": "bd3edb22-1f12-4ed0-852f-4e58fb7a63ff",
   "metadata": {},
   "outputs": [],
   "source": []
  }
 ],
 "metadata": {
  "kernelspec": {
   "display_name": "Python 3 (ipykernel)",
   "language": "python",
   "name": "python3"
  },
  "language_info": {
   "codemirror_mode": {
    "name": "ipython",
    "version": 3
   },
   "file_extension": ".py",
   "mimetype": "text/x-python",
   "name": "python",
   "nbconvert_exporter": "python",
   "pygments_lexer": "ipython3",
   "version": "3.11.5"
  }
 },
 "nbformat": 4,
 "nbformat_minor": 5
}
