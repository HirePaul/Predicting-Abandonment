{
 "cells": [
  {
   "cell_type": "markdown",
   "id": "3ca92efd-5d55-4d72-af95-ed020b09a5ac",
   "metadata": {},
   "source": [
    "Scraping Github Repos from multiple pages"
   ]
  },
  {
   "cell_type": "code",
   "execution_count": 1,
   "id": "ac61e5c7-ea5c-48c9-ab38-cdbbefb093ae",
   "metadata": {},
   "outputs": [
    {
     "name": "stderr",
     "output_type": "stream",
     "text": [
      "/tmp/ipykernel_67/222825045.py:2: DeprecationWarning: \n",
      "Pyarrow will become a required dependency of pandas in the next major release of pandas (pandas 3.0),\n",
      "(to allow more performant data types, such as the Arrow string type, and better interoperability with other libraries)\n",
      "but was not found to be installed on your system.\n",
      "If this would cause problems for you,\n",
      "please provide us feedback at https://github.com/pandas-dev/pandas/issues/54466\n",
      "        \n",
      "  import pandas as pd\n"
     ]
    }
   ],
   "source": [
    "import requests\n",
    "import pandas as pd"
   ]
  },
  {
   "cell_type": "code",
   "execution_count": 2,
   "id": "d63278ee-b8e7-4bc6-a8a5-7f9373a3ac87",
   "metadata": {},
   "outputs": [
    {
     "ename": "JSONDecodeError",
     "evalue": "Expecting value: line 1 column 1 (char 0)",
     "output_type": "error",
     "traceback": [
      "\u001b[0;31m---------------------------------------------------------------------------\u001b[0m",
      "\u001b[0;31mJSONDecodeError\u001b[0m                           Traceback (most recent call last)",
      "File \u001b[0;32m~/.local/lib/python3.10/site-packages/requests/models.py:971\u001b[0m, in \u001b[0;36mResponse.json\u001b[0;34m(self, **kwargs)\u001b[0m\n\u001b[1;32m    970\u001b[0m \u001b[38;5;28;01mtry\u001b[39;00m:\n\u001b[0;32m--> 971\u001b[0m     \u001b[38;5;28;01mreturn\u001b[39;00m \u001b[43mcomplexjson\u001b[49m\u001b[38;5;241;43m.\u001b[39;49m\u001b[43mloads\u001b[49m\u001b[43m(\u001b[49m\u001b[38;5;28;43mself\u001b[39;49m\u001b[38;5;241;43m.\u001b[39;49m\u001b[43mtext\u001b[49m\u001b[43m,\u001b[49m\u001b[43m \u001b[49m\u001b[38;5;241;43m*\u001b[39;49m\u001b[38;5;241;43m*\u001b[39;49m\u001b[43mkwargs\u001b[49m\u001b[43m)\u001b[49m\n\u001b[1;32m    972\u001b[0m \u001b[38;5;28;01mexcept\u001b[39;00m JSONDecodeError \u001b[38;5;28;01mas\u001b[39;00m e:\n\u001b[1;32m    973\u001b[0m     \u001b[38;5;66;03m# Catch JSON-related errors and raise as requests.JSONDecodeError\u001b[39;00m\n\u001b[1;32m    974\u001b[0m     \u001b[38;5;66;03m# This aliases json.JSONDecodeError and simplejson.JSONDecodeError\u001b[39;00m\n",
      "File \u001b[0;32m/usr/lib/python3.10/json/__init__.py:346\u001b[0m, in \u001b[0;36mloads\u001b[0;34m(s, cls, object_hook, parse_float, parse_int, parse_constant, object_pairs_hook, **kw)\u001b[0m\n\u001b[1;32m    343\u001b[0m \u001b[38;5;28;01mif\u001b[39;00m (\u001b[38;5;28mcls\u001b[39m \u001b[38;5;129;01mis\u001b[39;00m \u001b[38;5;28;01mNone\u001b[39;00m \u001b[38;5;129;01mand\u001b[39;00m object_hook \u001b[38;5;129;01mis\u001b[39;00m \u001b[38;5;28;01mNone\u001b[39;00m \u001b[38;5;129;01mand\u001b[39;00m\n\u001b[1;32m    344\u001b[0m         parse_int \u001b[38;5;129;01mis\u001b[39;00m \u001b[38;5;28;01mNone\u001b[39;00m \u001b[38;5;129;01mand\u001b[39;00m parse_float \u001b[38;5;129;01mis\u001b[39;00m \u001b[38;5;28;01mNone\u001b[39;00m \u001b[38;5;129;01mand\u001b[39;00m\n\u001b[1;32m    345\u001b[0m         parse_constant \u001b[38;5;129;01mis\u001b[39;00m \u001b[38;5;28;01mNone\u001b[39;00m \u001b[38;5;129;01mand\u001b[39;00m object_pairs_hook \u001b[38;5;129;01mis\u001b[39;00m \u001b[38;5;28;01mNone\u001b[39;00m \u001b[38;5;129;01mand\u001b[39;00m \u001b[38;5;129;01mnot\u001b[39;00m kw):\n\u001b[0;32m--> 346\u001b[0m     \u001b[38;5;28;01mreturn\u001b[39;00m \u001b[43m_default_decoder\u001b[49m\u001b[38;5;241;43m.\u001b[39;49m\u001b[43mdecode\u001b[49m\u001b[43m(\u001b[49m\u001b[43ms\u001b[49m\u001b[43m)\u001b[49m\n\u001b[1;32m    347\u001b[0m \u001b[38;5;28;01mif\u001b[39;00m \u001b[38;5;28mcls\u001b[39m \u001b[38;5;129;01mis\u001b[39;00m \u001b[38;5;28;01mNone\u001b[39;00m:\n",
      "File \u001b[0;32m/usr/lib/python3.10/json/decoder.py:337\u001b[0m, in \u001b[0;36mJSONDecoder.decode\u001b[0;34m(self, s, _w)\u001b[0m\n\u001b[1;32m    333\u001b[0m \u001b[38;5;124;03m\"\"\"Return the Python representation of ``s`` (a ``str`` instance\u001b[39;00m\n\u001b[1;32m    334\u001b[0m \u001b[38;5;124;03mcontaining a JSON document).\u001b[39;00m\n\u001b[1;32m    335\u001b[0m \n\u001b[1;32m    336\u001b[0m \u001b[38;5;124;03m\"\"\"\u001b[39;00m\n\u001b[0;32m--> 337\u001b[0m obj, end \u001b[38;5;241m=\u001b[39m \u001b[38;5;28;43mself\u001b[39;49m\u001b[38;5;241;43m.\u001b[39;49m\u001b[43mraw_decode\u001b[49m\u001b[43m(\u001b[49m\u001b[43ms\u001b[49m\u001b[43m,\u001b[49m\u001b[43m \u001b[49m\u001b[43midx\u001b[49m\u001b[38;5;241;43m=\u001b[39;49m\u001b[43m_w\u001b[49m\u001b[43m(\u001b[49m\u001b[43ms\u001b[49m\u001b[43m,\u001b[49m\u001b[43m \u001b[49m\u001b[38;5;241;43m0\u001b[39;49m\u001b[43m)\u001b[49m\u001b[38;5;241;43m.\u001b[39;49m\u001b[43mend\u001b[49m\u001b[43m(\u001b[49m\u001b[43m)\u001b[49m\u001b[43m)\u001b[49m\n\u001b[1;32m    338\u001b[0m end \u001b[38;5;241m=\u001b[39m _w(s, end)\u001b[38;5;241m.\u001b[39mend()\n",
      "File \u001b[0;32m/usr/lib/python3.10/json/decoder.py:355\u001b[0m, in \u001b[0;36mJSONDecoder.raw_decode\u001b[0;34m(self, s, idx)\u001b[0m\n\u001b[1;32m    354\u001b[0m \u001b[38;5;28;01mexcept\u001b[39;00m \u001b[38;5;167;01mStopIteration\u001b[39;00m \u001b[38;5;28;01mas\u001b[39;00m err:\n\u001b[0;32m--> 355\u001b[0m     \u001b[38;5;28;01mraise\u001b[39;00m JSONDecodeError(\u001b[38;5;124m\"\u001b[39m\u001b[38;5;124mExpecting value\u001b[39m\u001b[38;5;124m\"\u001b[39m, s, err\u001b[38;5;241m.\u001b[39mvalue) \u001b[38;5;28;01mfrom\u001b[39;00m \u001b[38;5;28mNone\u001b[39m\n\u001b[1;32m    356\u001b[0m \u001b[38;5;28;01mreturn\u001b[39;00m obj, end\n",
      "\u001b[0;31mJSONDecodeError\u001b[0m: Expecting value: line 1 column 1 (char 0)",
      "\nDuring handling of the above exception, another exception occurred:\n",
      "\u001b[0;31mJSONDecodeError\u001b[0m                           Traceback (most recent call last)",
      "Cell \u001b[0;32mIn[2], line 51\u001b[0m\n\u001b[1;32m     48\u001b[0m response \u001b[38;5;241m=\u001b[39m requests\u001b[38;5;241m.\u001b[39mget(\u001b[38;5;124m'\u001b[39m\u001b[38;5;124mhttps://github.com/search\u001b[39m\u001b[38;5;124m'\u001b[39m, params\u001b[38;5;241m=\u001b[39mparams, cookies\u001b[38;5;241m=\u001b[39mcookies, headers\u001b[38;5;241m=\u001b[39mheaders)\n\u001b[1;32m     50\u001b[0m \u001b[38;5;66;03m# json object\u001b[39;00m\n\u001b[0;32m---> 51\u001b[0m project_list \u001b[38;5;241m=\u001b[39m \u001b[43mresponse\u001b[49m\u001b[38;5;241;43m.\u001b[39;49m\u001b[43mjson\u001b[49m\u001b[43m(\u001b[49m\u001b[43m)\u001b[49m[\u001b[38;5;124m'\u001b[39m\u001b[38;5;124mpayload\u001b[39m\u001b[38;5;124m'\u001b[39m][\u001b[38;5;124m'\u001b[39m\u001b[38;5;124mresults\u001b[39m\u001b[38;5;124m'\u001b[39m]\n\u001b[1;32m     53\u001b[0m \u001b[38;5;28;01mfor\u001b[39;00m project \u001b[38;5;129;01min\u001b[39;00m project_list:\n\u001b[1;32m     54\u001b[0m     project_name\u001b[38;5;241m.\u001b[39mappend(project[\u001b[38;5;124m'\u001b[39m\u001b[38;5;124mhl_name\u001b[39m\u001b[38;5;124m'\u001b[39m])\n",
      "File \u001b[0;32m~/.local/lib/python3.10/site-packages/requests/models.py:975\u001b[0m, in \u001b[0;36mResponse.json\u001b[0;34m(self, **kwargs)\u001b[0m\n\u001b[1;32m    971\u001b[0m     \u001b[38;5;28;01mreturn\u001b[39;00m complexjson\u001b[38;5;241m.\u001b[39mloads(\u001b[38;5;28mself\u001b[39m\u001b[38;5;241m.\u001b[39mtext, \u001b[38;5;241m*\u001b[39m\u001b[38;5;241m*\u001b[39mkwargs)\n\u001b[1;32m    972\u001b[0m \u001b[38;5;28;01mexcept\u001b[39;00m JSONDecodeError \u001b[38;5;28;01mas\u001b[39;00m e:\n\u001b[1;32m    973\u001b[0m     \u001b[38;5;66;03m# Catch JSON-related errors and raise as requests.JSONDecodeError\u001b[39;00m\n\u001b[1;32m    974\u001b[0m     \u001b[38;5;66;03m# This aliases json.JSONDecodeError and simplejson.JSONDecodeError\u001b[39;00m\n\u001b[0;32m--> 975\u001b[0m     \u001b[38;5;28;01mraise\u001b[39;00m RequestsJSONDecodeError(e\u001b[38;5;241m.\u001b[39mmsg, e\u001b[38;5;241m.\u001b[39mdoc, e\u001b[38;5;241m.\u001b[39mpos)\n",
      "\u001b[0;31mJSONDecodeError\u001b[0m: Expecting value: line 1 column 1 (char 0)"
     ]
    }
   ],
   "source": [
    "cookies = {\n",
    "    '_octo': 'GH1.1.1915587616.1681407000',\n",
    "    '_device_id': '0a00f64228aef54abed6af711002f71a',\n",
    "    'saved_user_sessions': '112911140%3AbF95nwVgtouvy3DObbW9mmpgR_j7rBjLqQuNFMZAnmzN4mVj',\n",
    "    'user_session': 'bF95nwVgtouvy3DObbW9mmpgR_j7rBjLqQuNFMZAnmzN4mVj',\n",
    "    '__Host-user_session_same_site': 'bF95nwVgtouvy3DObbW9mmpgR_j7rBjLqQuNFMZAnmzN4mVj',\n",
    "    'logged_in': 'yes',\n",
    "    'dotcom_user': 'dchen117',\n",
    "    'has_recent_activity': '1',\n",
    "    'color_mode': '%7B%22color_mode%22%3A%22auto%22%2C%22light_theme%22%3A%7B%22name%22%3A%22light%22%2C%22color_mode%22%3A%22light%22%7D%2C%22dark_theme%22%3A%7B%22name%22%3A%22dark%22%2C%22color_mode%22%3A%22dark%22%7D%7D',\n",
    "    'preferred_color_mode': 'dark',\n",
    "    'tz': 'America%2FNew_York',\n",
    "    '_gh_sess': 'PTDPvn6rFapHCQlO%2BfMgEvFaCxTYRwbL4V6Ppg%2BaHAjR9TLnKIiOGw51g7Roi9lVrXeGksikvTE32M75%2BiC72fU02Yl2WUaAbTxcVPa8TqzJ0q76TXe8a9DuEOR0FL9KCD6lCKR%2BRl8qmVvCC6cr8ZSXmuNsuwpZX4xFlm1v9m%2Bbxr02l6DR%2FxLqd9qyA%2BkSfTndqdnqJxIA4yOdvCQKSlfEcMcpLW60AvVzR%2FBCcM5bA3LheNXJVS%2FR08VyIiapJlgW9gCZI5MIH1YzkHXhBYOEX73OiwgZ521CDbiGL5JfYwwXd2DnU8Xx9NmCAIggNkyitrBfkQQV%2FzJPDhM%2Fp6cI9jHKNPa3OwnpW5rnVor8YRuGXLa6b9%2FQAYpU%2FCHfjtbaVg%3D%3D--QXy690WwXM7%2BLMk0--9MLM5pr68Ctjh9m5%2FNbYyQ%3D%3D',\n",
    "}\n",
    "\n",
    "headers = {\n",
    "    'authority': 'github.com',\n",
    "    'accept': 'application/json',\n",
    "    'accept-language': 'en-US,en;q=0.9',\n",
    "    # 'cookie': '_octo=GH1.1.1915587616.1681407000; _device_id=0a00f64228aef54abed6af711002f71a; saved_user_sessions=112911140%3AbF95nwVgtouvy3DObbW9mmpgR_j7rBjLqQuNFMZAnmzN4mVj; user_session=bF95nwVgtouvy3DObbW9mmpgR_j7rBjLqQuNFMZAnmzN4mVj; __Host-user_session_same_site=bF95nwVgtouvy3DObbW9mmpgR_j7rBjLqQuNFMZAnmzN4mVj; logged_in=yes; dotcom_user=dchen117; has_recent_activity=1; color_mode=%7B%22color_mode%22%3A%22auto%22%2C%22light_theme%22%3A%7B%22name%22%3A%22light%22%2C%22color_mode%22%3A%22light%22%7D%2C%22dark_theme%22%3A%7B%22name%22%3A%22dark%22%2C%22color_mode%22%3A%22dark%22%7D%7D; preferred_color_mode=dark; tz=America%2FNew_York; _gh_sess=PTDPvn6rFapHCQlO%2BfMgEvFaCxTYRwbL4V6Ppg%2BaHAjR9TLnKIiOGw51g7Roi9lVrXeGksikvTE32M75%2BiC72fU02Yl2WUaAbTxcVPa8TqzJ0q76TXe8a9DuEOR0FL9KCD6lCKR%2BRl8qmVvCC6cr8ZSXmuNsuwpZX4xFlm1v9m%2Bbxr02l6DR%2FxLqd9qyA%2BkSfTndqdnqJxIA4yOdvCQKSlfEcMcpLW60AvVzR%2FBCcM5bA3LheNXJVS%2FR08VyIiapJlgW9gCZI5MIH1YzkHXhBYOEX73OiwgZ521CDbiGL5JfYwwXd2DnU8Xx9NmCAIggNkyitrBfkQQV%2FzJPDhM%2Fp6cI9jHKNPa3OwnpW5rnVor8YRuGXLa6b9%2FQAYpU%2FCHfjtbaVg%3D%3D--QXy690WwXM7%2BLMk0--9MLM5pr68Ctjh9m5%2FNbYyQ%3D%3D',\n",
    "    'if-none-match': 'W/\"1024a7abf090b9baa57dc1a658351721\"',\n",
    "    'referer': 'https://github.com/search?q=stars%3A%3E5000&type=repositories&s=stars&o=desc&p=1',\n",
    "    'sec-ch-ua': '\"Not A(Brand\";v=\"99\", \"Google Chrome\";v=\"121\", \"Chromium\";v=\"121\"',\n",
    "    'sec-ch-ua-mobile': '?0',\n",
    "    'sec-ch-ua-platform': '\"Windows\"',\n",
    "    'sec-fetch-dest': 'empty',\n",
    "    'sec-fetch-mode': 'cors',\n",
    "    'sec-fetch-site': 'same-origin',\n",
    "    'user-agent': 'Mozilla/5.0 (Windows NT 10.0; Win64; x64) AppleWebKit/537.36 (KHTML, like Gecko) Chrome/121.0.0.0 Safari/537.36',\n",
    "    'x-github-target': 'dotcom',\n",
    "    'x-requested-with': 'XMLHttpRequest',\n",
    "}\n",
    "\n",
    "project_name = []\n",
    "last_update = []\n",
    "\n",
    "for i in range(1,101):\n",
    "\n",
    "    params = {\n",
    "        'q': 'stars:>5000',\n",
    "        'type': 'repositories',\n",
    "        's': 'stars',\n",
    "        'o': 'desc',\n",
    "        'p': str(i),\n",
    "    }\n",
    "    \n",
    "    # response variable\n",
    "    response = requests.get('https://github.com/search', params=params, cookies=cookies, headers=headers)\n",
    "    \n",
    "    # json object\n",
    "    project_list = response.json()['payload']['results']\n",
    "\n",
    "    for project in project_list:\n",
    "        project_name.append(project['hl_name'])\n",
    "        last_update.append(project['repo']['repository']['updated_at'])"
   ]
  },
  {
   "cell_type": "code",
   "execution_count": null,
   "id": "353bec85-a26a-4ef7-9ebe-94d3ab60b901",
   "metadata": {},
   "outputs": [],
   "source": [
    "projects_df = pd.DataFrame({'Project':project_name, 'Last Update':last_update})"
   ]
  },
  {
   "cell_type": "code",
   "execution_count": 3,
   "id": "8fc3c5c1-da0d-444e-bc1b-ed9c9679bac9",
   "metadata": {},
   "outputs": [
    {
     "ename": "NameError",
     "evalue": "name 'projects_df' is not defined",
     "output_type": "error",
     "traceback": [
      "\u001b[0;31m---------------------------------------------------------------------------\u001b[0m",
      "\u001b[0;31mNameError\u001b[0m                                 Traceback (most recent call last)",
      "Cell \u001b[0;32mIn[3], line 1\u001b[0m\n\u001b[0;32m----> 1\u001b[0m \u001b[43mprojects_df\u001b[49m\n",
      "\u001b[0;31mNameError\u001b[0m: name 'projects_df' is not defined"
     ]
    }
   ],
   "source": [
    "projects_df"
   ]
  },
  {
   "cell_type": "code",
   "execution_count": 9,
   "id": "e45ba881-3f80-4684-89e1-0a80ca5fcddd",
   "metadata": {},
   "outputs": [],
   "source": [
    "projects_df.to_excel('projects_test.xlsx', index=False)"
   ]
  },
  {
   "cell_type": "code",
   "execution_count": null,
   "id": "b01c14cc-6e11-4395-9063-29aa58684bb6",
   "metadata": {},
   "outputs": [],
   "source": []
  }
 ],
 "metadata": {
  "kernelspec": {
   "display_name": "Python 3 (ipykernel)",
   "language": "python",
   "name": "python3"
  },
  "language_info": {
   "codemirror_mode": {
    "name": "ipython",
    "version": 3
   },
   "file_extension": ".py",
   "mimetype": "text/x-python",
   "name": "python",
   "nbconvert_exporter": "python",
   "pygments_lexer": "ipython3",
   "version": "3.10.12"
  }
 },
 "nbformat": 4,
 "nbformat_minor": 5
}
